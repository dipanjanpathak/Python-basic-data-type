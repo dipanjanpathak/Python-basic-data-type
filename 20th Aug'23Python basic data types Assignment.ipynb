{
 "cells": [
  {
   "cell_type": "raw",
   "id": "d7fc37a5-3df4-40b6-be7b-25f49ae26911",
   "metadata": {},
   "source": [
    "TOPIC: String Based Assignment Problem\n",
    "\n",
    "\n",
    "\n"
   ]
  },
  {
   "cell_type": "raw",
   "id": "3783a12f-9517-447b-8059-8508328b341a",
   "metadata": {},
   "source": [
    "1. Write a program to reverse a string."
   ]
  },
  {
   "cell_type": "code",
   "execution_count": 1,
   "id": "1ada667a-6bea-40d1-b257-194bacf23eec",
   "metadata": {},
   "outputs": [
    {
     "name": "stdout",
     "output_type": "stream",
     "text": [
      "esruoc orp ecneics atad a si sihT\n"
     ]
    }
   ],
   "source": [
    "string = 'This is a data science pro course'\n",
    "reverseString = string[::-1]\n",
    "print (reverseString)"
   ]
  },
  {
   "cell_type": "raw",
   "id": "2d5845e7-19ab-4ed4-be21-c8c89b5a9b05",
   "metadata": {},
   "source": [
    "2.Check if a string is a palindrome."
   ]
  },
  {
   "cell_type": "code",
   "execution_count": 6,
   "id": "f39c4a24-3683-4a46-a95c-30b490ce5ae8",
   "metadata": {},
   "outputs": [
    {
     "name": "stdout",
     "output_type": "stream",
     "text": [
      "string is palindrome.\n"
     ]
    }
   ],
   "source": [
    "string = 'abcdedcba'\n",
    "\n",
    "if (string!= string[::-1]):\n",
    "  print('string is not palindrome.')\n",
    "else:\n",
    "  print('string is palindrome.')"
   ]
  },
  {
   "cell_type": "raw",
   "id": "a7b5ca4e-5940-4de9-81a4-7537f8c3faee",
   "metadata": {},
   "source": [
    "3. Convert a string to uppercase."
   ]
  },
  {
   "cell_type": "code",
   "execution_count": 7,
   "id": "3f855231-8425-4382-828d-b03d47f66aa0",
   "metadata": {},
   "outputs": [
    {
     "name": "stdout",
     "output_type": "stream",
     "text": [
      "I LOVE DATA SCIENCE\n"
     ]
    }
   ],
   "source": [
    "string = 'I love data science'\n",
    "print (string.upper())"
   ]
  },
  {
   "cell_type": "raw",
   "id": "e5ea64cb-ce4a-4451-8cb1-0383ee04fcbe",
   "metadata": {},
   "source": [
    "4.Convert a string to lowercase."
   ]
  },
  {
   "cell_type": "code",
   "execution_count": 10,
   "id": "bd0ec6cf-c8db-49e5-bcba-73c9ee2605dd",
   "metadata": {},
   "outputs": [
    {
     "name": "stdout",
     "output_type": "stream",
     "text": [
      "i love data science\n"
     ]
    }
   ],
   "source": [
    "string = 'i LOve dAtA sCieNcE'\n",
    "print (string.lower())"
   ]
  },
  {
   "cell_type": "raw",
   "id": "62a38ab5-5572-4d4e-9dab-1884eea35809",
   "metadata": {},
   "source": [
    "5. Count the number of vowels in a string."
   ]
  },
  {
   "cell_type": "code",
   "execution_count": 11,
   "id": "92384483-0c18-49f6-8c69-8e6e5de5794e",
   "metadata": {},
   "outputs": [
    {
     "name": "stdout",
     "output_type": "stream",
     "text": [
      "total vowel count is 15\n"
     ]
    }
   ],
   "source": [
    "string = 'I am Dipanjan Pathak. I love data science'\n",
    "vowel ='aeiouAEIOU'\n",
    "count =0\n",
    "\n",
    "for char in string:\n",
    " if char in vowel:\n",
    "   count+=1\n",
    "print(f'total vowel count is {count}')"
   ]
  },
  {
   "cell_type": "raw",
   "id": "add31929-3f1c-4458-bb8a-b70539578949",
   "metadata": {},
   "source": [
    "6. Count the number of consonants in a string."
   ]
  },
  {
   "cell_type": "code",
   "execution_count": 12,
   "id": "b2055da3-edb3-4eb3-ac10-3ca9c1067356",
   "metadata": {},
   "outputs": [
    {
     "name": "stdout",
     "output_type": "stream",
     "text": [
      "Total consonant count is 18\n"
     ]
    }
   ],
   "source": [
    "string = 'I am Dipanjan Pathak. I love data science'\n",
    "vowels = 'aeiouAEIOU'\n",
    "count = 0\n",
    "\n",
    "for char in string:\n",
    "    if char.isalpha() and char not in vowels :\n",
    "        count += 1\n",
    "print(f'Total consonant count is {count}')\n"
   ]
  },
  {
   "cell_type": "raw",
   "id": "6adf8e02-0319-46a3-ad82-e57e4842703a",
   "metadata": {},
   "source": [
    "7. Remove all whitespaces from a string."
   ]
  },
  {
   "cell_type": "code",
   "execution_count": 15,
   "id": "d7209289-81b1-4d81-83ee-30f19cd183d3",
   "metadata": {},
   "outputs": [
    {
     "name": "stdout",
     "output_type": "stream",
     "text": [
      "IamDipanjanPathak.Ilovedatascience\n"
     ]
    }
   ],
   "source": [
    "string = 'I am Dipanjan Pathak. I love data science'\n",
    "newString = string.replace(\" \", \"\")\n",
    "print(newString)"
   ]
  },
  {
   "cell_type": "raw",
   "id": "8f3b429f-6f34-4056-bfe0-808dbc92d1f5",
   "metadata": {},
   "source": [
    "8. Find the length of a string without using the `len()` function."
   ]
  },
  {
   "cell_type": "code",
   "execution_count": 16,
   "id": "82fc690c-7787-4413-8ebf-7df7e3ab9613",
   "metadata": {},
   "outputs": [
    {
     "name": "stdout",
     "output_type": "stream",
     "text": [
      "the length of string is 63\n"
     ]
    }
   ],
   "source": [
    "string = \"Find the length of a string without using the `len()` function.\"\n",
    "count = 0\n",
    "for char in string:\n",
    "  count +=1\n",
    "print (f'the length of the string is {count}')"
   ]
  },
  {
   "cell_type": "raw",
   "id": "47871f57-8659-44a3-90db-7b43ef836a02",
   "metadata": {},
   "source": [
    "9. Check if a string contains a specific word."
   ]
  },
  {
   "cell_type": "code",
   "execution_count": null,
   "id": "19691982-df90-4490-a322-c31f211093fd",
   "metadata": {},
   "outputs": [],
   "source": [
    "string = 'I am Dipanjan Pathak. I love data science'\n",
    "word = 'love'\n",
    "if word in string:\n",
    "  print (f'Yes {word} exist in the string')\n",
    "else:\n",
    "  print(f'No {word} does not exist in the string')"
   ]
  },
  {
   "cell_type": "raw",
   "id": "2b0497dd-3964-4df9-86ee-bc21647b80f4",
   "metadata": {},
   "source": [
    "10. Replace a word in a string with another word."
   ]
  },
  {
   "cell_type": "code",
   "execution_count": null,
   "id": "535516e3-95be-44a1-ada0-0aca7de09ba8",
   "metadata": {},
   "outputs": [],
   "source": [
    "string = 'I am Dipanjan Pathak. I love data science'\n",
    "print(string.replace('data science','web development'))"
   ]
  },
  {
   "cell_type": "raw",
   "id": "4803e852-551c-4745-8a03-655006adee3e",
   "metadata": {},
   "source": [
    "11. Count the occurrences of a word in a string."
   ]
  },
  {
   "cell_type": "code",
   "execution_count": 1,
   "id": "b90d2a83-2cb8-4a86-9376-d05979932989",
   "metadata": {},
   "outputs": [],
   "source": [
    "string = 'I am Dipanjan Pathak. I love data science. I am willing to be a data scientist, Thats why I enrolled in data science course'\n",
    "\n",
    "print (\"The total count of data is \",string.count('data'))"
   ]
  },
  {
   "cell_type": "raw",
   "id": "8fa8536f-82d0-49f5-ba65-63b4ca437afb",
   "metadata": {},
   "source": [
    "12. Find the first occurrence of a word in a string."
   ]
  },
  {
   "cell_type": "code",
   "execution_count": 1,
   "id": "1553cb05-9620-4276-bfa6-cd875f6823f6",
   "metadata": {},
   "outputs": [
    {
     "name": "stdout",
     "output_type": "stream",
     "text": [
      "29\n"
     ]
    }
   ],
   "source": [
    "string = 'I am Dipanjan Pathak. I love data science. I am willing to be a data scientist, Thats why I enrolled in data science course'\n",
    "string.index('data')\n",
    "print(string.index('data'))"
   ]
  },
  {
   "cell_type": "raw",
   "id": "fb5a6812-d83a-44a5-93aa-9889bec17d5b",
   "metadata": {},
   "source": [
    "13. Find the last occurrence of a word in a string."
   ]
  },
  {
   "cell_type": "code",
   "execution_count": 5,
   "id": "17f31f50-929d-48d7-8572-97e902022296",
   "metadata": {},
   "outputs": [
    {
     "name": "stdout",
     "output_type": "stream",
     "text": [
      "The last occurrence of word \"data\" is 104\n"
     ]
    }
   ],
   "source": [
    "string = 'I am Dipanjan Pathak. I love data science. I am willing to be a data scientist, Thats why I enrolled in data science course'\n",
    "print(f'The last occurrence of word \"data\" is',string.rfind('data'))"
   ]
  },
  {
   "cell_type": "raw",
   "id": "1f09e2df-3cfc-4d37-b4ac-679f6d98588c",
   "metadata": {},
   "source": [
    "14.Split a string into a list of words."
   ]
  },
  {
   "cell_type": "code",
   "execution_count": null,
   "id": "3854fb90-2a26-483e-9f71-6b27105e2309",
   "metadata": {},
   "outputs": [],
   "source": [
    "string= \"I am dipanjan\"\n",
    "theList = list(string.split(\" \"))\n",
    "print (theList)"
   ]
  },
  {
   "cell_type": "raw",
   "id": "0970b304-1a24-4e4f-962d-a5e56aff7d40",
   "metadata": {},
   "source": [
    "15. Join a list of words into a string."
   ]
  },
  {
   "cell_type": "code",
   "execution_count": 16,
   "id": "4b266613-7323-4bbd-845a-d9abb04bf17a",
   "metadata": {},
   "outputs": [
    {
     "name": "stdout",
     "output_type": "stream",
     "text": [
      "I am Dipanjan Pathak\n"
     ]
    }
   ],
   "source": [
    "theList = ['I', 'am', 'Dipanjan', 'Pathak']\n",
    "result_string = ' '.join(theList)\n",
    "print(result_string)"
   ]
  },
  {
   "cell_type": "raw",
   "id": "2aa035c0-0d3e-4d6f-b887-7548dc2be257",
   "metadata": {},
   "source": [
    "16.Convert a string where words are separated by spaces to one where words\n",
    "are separated by underscores."
   ]
  },
  {
   "cell_type": "code",
   "execution_count": 19,
   "id": "70843538-6f69-4a59-8d59-22427d2ed4f2",
   "metadata": {},
   "outputs": [
    {
     "name": "stdout",
     "output_type": "stream",
     "text": [
      "Convert_a_string_where_words_are_separated_by_spaces\n"
     ]
    }
   ],
   "source": [
    "string =\"Convert a string where words are separated by spaces\"\n",
    "newStr = string.replace(' ','_')\n",
    "print (newStr)"
   ]
  },
  {
   "cell_type": "raw",
   "id": "607d8b93-f80b-45e8-be13-3ec3e74f0bd5",
   "metadata": {},
   "source": [
    "17. Check if a string starts with a specific word or phrase."
   ]
  },
  {
   "cell_type": "code",
   "execution_count": 1,
   "id": "685845e6-855d-4323-8574-05e6dffe1416",
   "metadata": {},
   "outputs": [
    {
     "name": "stdout",
     "output_type": "stream",
     "text": [
      "Yes the word or phrase starts with \"check\"\n"
     ]
    }
   ],
   "source": [
    "string =\"Check if a string starts with a specific word or phrase\"\n",
    "listItem = string.split()\n",
    "if listItem[0]== 'Check':\n",
    "  print ('Yes, the word or phrase starts with \"check\"')\n",
    "else:\n",
    "  print ('No the word or phrase does not start with \"check\"')"
   ]
  },
  {
   "cell_type": "raw",
   "id": "b4e00329-43c2-4225-95ba-1ac1e9516ef1",
   "metadata": {},
   "source": [
    "18. Check if a string ends with a specific word or phrase."
   ]
  },
  {
   "cell_type": "code",
   "execution_count": 2,
   "id": "63836589-d8e2-40c0-8af9-697842e36b9f",
   "metadata": {},
   "outputs": [
    {
     "name": "stdout",
     "output_type": "stream",
     "text": [
      "Yes, the word or phrase ends with \"phrase\"\n"
     ]
    }
   ],
   "source": [
    "string =\"Check if a string starts with a specific word or phrase\"\n",
    "listItem = string.split()\n",
    "if listItem[-1]== 'phrase':\n",
    "  print ('Yes, the word or phrase ends with \"phrase\"')\n",
    "else:\n",
    "  print ('No, the word or phrase does not end with \"phrase\"')"
   ]
  },
  {
   "cell_type": "raw",
   "id": "02b8f466-64b0-4e2b-afe7-e2a2152f56f1",
   "metadata": {},
   "source": [
    "19. Convert a string to title case (e.g., \"hello world\" to \"Hello World\")."
   ]
  },
  {
   "cell_type": "code",
   "execution_count": 3,
   "id": "789ab6e3-2274-4ae5-9fd9-47d9c6600984",
   "metadata": {},
   "outputs": [
    {
     "name": "stdout",
     "output_type": "stream",
     "text": [
      "Hello World\n"
     ]
    }
   ],
   "source": [
    "string = 'hello world'\n",
    "newString= string.title()\n",
    "print (newString)"
   ]
  },
  {
   "cell_type": "raw",
   "id": "4cd15d24-0d59-4f0d-823b-bae99aa76b22",
   "metadata": {},
   "source": [
    "20. Find the longest word in a string."
   ]
  },
  {
   "cell_type": "code",
   "execution_count": 5,
   "id": "a3d65faa-4ba1-43cd-bbe2-6fcd206dd42f",
   "metadata": {},
   "outputs": [
    {
     "name": "stdin",
     "output_type": "stream",
     "text": [
      "Enter the sentence:  i am a boy\n"
     ]
    },
    {
     "name": "stdout",
     "output_type": "stream",
     "text": [
      "The element is \"boy\" and its length is 3\n"
     ]
    }
   ],
   "source": [
    "string = input(\"Enter the sentence: \")\n",
    "newList = string.split()\n",
    "result =0\n",
    "\n",
    "for item in(newList):\n",
    "  count =len(item)\n",
    "  if count >result:\n",
    "   result = count\n",
    "for item in newList:\n",
    "  if len(item)==result:\n",
    "    print (f'The element is \"{item}\" and its length is {len(item)}')"
   ]
  },
  {
   "cell_type": "raw",
   "id": "e2fc9a61-7e97-4cf2-b85e-704a9335b258",
   "metadata": {},
   "source": [
    "21. Find the shortest word in a string."
   ]
  },
  {
   "cell_type": "code",
   "execution_count": null,
   "id": "5d08492d-0d28-4c51-a9e4-c6c238d9a722",
   "metadata": {},
   "outputs": [],
   "source": [
    "string = input ('Enter a sentence: ')\n",
    "\n",
    "listItem = sentence.split()\n",
    "if listItem:\n",
    "  word = min(listItem, key=len)\n",
    "  print (f'the shortest word is \"{word}\"')\n",
    "\n"
   ]
  },
  {
   "cell_type": "raw",
   "id": "1ada53ee-1500-4961-bfb8-213129f3ff2c",
   "metadata": {},
   "source": [
    "22. Reverse the order of words in a string."
   ]
  },
  {
   "cell_type": "code",
   "execution_count": 8,
   "id": "1726354c-63e2-4577-be7a-e71f1dd07cca",
   "metadata": {},
   "outputs": [
    {
     "name": "stdin",
     "output_type": "stream",
     "text": [
      "Enter the sentence:  I am a boy\n"
     ]
    },
    {
     "name": "stdout",
     "output_type": "stream",
     "text": [
      "boy a am I\n"
     ]
    }
   ],
   "source": [
    "sentence = input(\"Enter the sentence: \")\n",
    "setenceSplit = (sentence.split())\n",
    "newList =setenceSplit[::-1]\n",
    "newSentence= \" \".join(newList)\n",
    "print (newSentence)"
   ]
  },
  {
   "cell_type": "raw",
   "id": "6108d733-b480-4fc9-b32c-00ad8175a416",
   "metadata": {},
   "source": [
    "23. Check if a string is alphanumeric."
   ]
  },
  {
   "cell_type": "code",
   "execution_count": 10,
   "id": "e98271ec-08e1-4ed6-aa8b-551fee256244",
   "metadata": {},
   "outputs": [
    {
     "name": "stdin",
     "output_type": "stream",
     "text": [
      "Enter the sentence:  vn 54nn bfivbdb 554 `\n"
     ]
    },
    {
     "name": "stdout",
     "output_type": "stream",
     "text": [
      "Sting is not alpha numeric\n"
     ]
    }
   ],
   "source": [
    "string = input (\"Enter the sentence: \")\n",
    "newstring = string.replace(\" \",\"\")\n",
    "\n",
    "if  newstring.isalnum():\n",
    "    print ('Sting is alphanumeric')\n",
    "  \n",
    "else:\n",
    "    print ('Sting is not alpha numeric')\n",
    "    "
   ]
  },
  {
   "cell_type": "raw",
   "id": "3edb3cc1-28b8-414c-9d9a-ac74286505a4",
   "metadata": {},
   "source": [
    "24. Extract all digits from a string."
   ]
  },
  {
   "cell_type": "code",
   "execution_count": 18,
   "id": "986114e0-56e0-47b8-a883-5fcc6a0970d1",
   "metadata": {},
   "outputs": [
    {
     "name": "stdout",
     "output_type": "stream",
     "text": [
      "I am  years old\n"
     ]
    }
   ],
   "source": [
    "string =\"I am 27 years old\"\n",
    "filteredChars = [char for char in string if not char.isdigit()]\n",
    "newString = ''.join(filteredChars)\n",
    "print(newString)"
   ]
  },
  {
   "cell_type": "raw",
   "id": "be33d4d2-2357-413c-bf3f-99d3d4554e42",
   "metadata": {},
   "source": [
    "25. Extract all alphabets from a string."
   ]
  },
  {
   "cell_type": "code",
   "execution_count": null,
   "id": "d3b17628-857c-4415-8337-7f823b93cc21",
   "metadata": {},
   "outputs": [],
   "source": [
    "string = 'I am 27 years old'\n",
    "newList = []\n",
    "for char in string:\n",
    "  if char.isdigit():\n",
    "    newList.append(char)\n",
    "newString = ''.join(newList)\n",
    "print(newString)"
   ]
  },
  {
   "cell_type": "raw",
   "id": "feea91b7-7233-4cb0-ba9b-efaa8fda2ddd",
   "metadata": {},
   "source": [
    "26. Count the number of uppercase letters in a string."
   ]
  },
  {
   "cell_type": "code",
   "execution_count": null,
   "id": "7c3306a5-6776-493d-af30-c65185e1621c",
   "metadata": {},
   "outputs": [],
   "source": [
    "string =  \"I LoVe PytHOn\"\n",
    "count =0\n",
    "for char in string:\n",
    "  if char.isupper():\n",
    "    count+=1\n",
    "print (f'The number of total uppercase is {count}')"
   ]
  },
  {
   "cell_type": "raw",
   "id": "b712a242-a4a9-4819-a7f0-442293253454",
   "metadata": {},
   "source": [
    "27. Count the number of lowercase letters in a string."
   ]
  },
  {
   "cell_type": "code",
   "execution_count": 1,
   "id": "71e14c5f-11b9-4cb2-869c-2bd9e0529fd2",
   "metadata": {},
   "outputs": [
    {
     "name": "stdout",
     "output_type": "stream",
     "text": [
      "The number of total uppercase is 5\n"
     ]
    }
   ],
   "source": [
    "string =  \"I LoVe PytHOn\"\n",
    "count =0\n",
    "for char in string:\n",
    "  if char.islower():\n",
    "    count+=1\n",
    "print (f'The number of total uppercase is {count}')"
   ]
  },
  {
   "cell_type": "raw",
   "id": "ccbcd656-003c-42e5-870d-518903e4c0dc",
   "metadata": {},
   "source": [
    "28. Swap the case of each character in a string."
   ]
  },
  {
   "cell_type": "code",
   "execution_count": null,
   "id": "b79d93d7-4e20-4d3f-bdb3-c284f2d7cd25",
   "metadata": {},
   "outputs": [],
   "source": [
    "string =  \"I LoVe PytHOn\"\n",
    "count =0\n",
    "for char in string:\n",
    "  if char.isupper():\n",
    "    char =char.lower()\n",
    "    \n",
    "  elif char.islower():\n",
    "    char = char.upper()\n",
    "  print (char, end ='')  "
   ]
  },
  {
   "cell_type": "raw",
   "id": "387d3a56-ae09-4c3e-84dc-cfb42d627eeb",
   "metadata": {},
   "source": [
    "29. Remove a specific word from a string."
   ]
  },
  {
   "cell_type": "code",
   "execution_count": 2,
   "id": "73116244-0d85-4f0d-ab8c-237184310cb0",
   "metadata": {},
   "outputs": [
    {
     "name": "stdout",
     "output_type": "stream",
     "text": [
      "I  Love Python"
     ]
    }
   ],
   "source": [
    "string = \"I dont Love Python\"\n",
    "newString = string.replace('dont',\"\")\n",
    "print (newString, end=\"\")"
   ]
  },
  {
   "cell_type": "raw",
   "id": "6bc1ec87-4172-441f-8e72-80fb31a595f3",
   "metadata": {},
   "source": [
    "30. Check if a string is a valid email address."
   ]
  },
  {
   "cell_type": "code",
   "execution_count": 4,
   "id": "db8d45ea-ae89-4b9e-a618-35e513cd7076",
   "metadata": {},
   "outputs": [
    {
     "name": "stdout",
     "output_type": "stream",
     "text": [
      "Invalid email format!\n"
     ]
    }
   ],
   "source": [
    "import re\n",
    "email = \"dipanjanpathak@gmail.com\"\n",
    "email_pattern = re.compile(r'^[a-zA-Z0-9_.+-]+@[a-zA-Z0-9-]+\\.[a-zA-Z0-9-.]+$')\n",
    "\n",
    "if not email_pattern.match(email):\n",
    "    print(\"Invalid email format!\")\n",
    "else:\n",
    "    print(\"Congratulations! You entered a correct E-Mail!\")\n"
   ]
  },
  {
   "cell_type": "raw",
   "id": "1a02c7db-02f4-4ce1-ab6a-925f8e8fee09",
   "metadata": {},
   "source": [
    "31. Extract the username from an email address string."
   ]
  },
  {
   "cell_type": "code",
   "execution_count": 5,
   "id": "52f98b4e-767e-4688-80b4-90b4f9c059df",
   "metadata": {},
   "outputs": [
    {
     "name": "stdout",
     "output_type": "stream",
     "text": [
      "dipanjanpathak\n"
     ]
    }
   ],
   "source": [
    "email= 'dipanjanpathak@gmail.com'\n",
    "itemIndex = email.index('@')\n",
    "username = email[0:itemIndex]\n",
    "print(username)"
   ]
  },
  {
   "cell_type": "raw",
   "id": "0d4fac18-64f4-4d0b-9e88-be3669b071bd",
   "metadata": {},
   "source": [
    "32. Extract the domain name from an email address string."
   ]
  },
  {
   "cell_type": "code",
   "execution_count": null,
   "id": "61ff3700-ee81-4445-aa58-b02306204977",
   "metadata": {},
   "outputs": [],
   "source": [
    "email= 'dipanjanpathak@gmail.com'\n",
    "itemIndex = email.index('@')+1\n",
    "domainName = email[itemIndex:]\n",
    "print(domainName)"
   ]
  },
  {
   "cell_type": "raw",
   "id": "208e0ade-beb9-4e96-a340-1439fb7c074a",
   "metadata": {},
   "source": [
    "33. Replace multiple spaces in a string with a single space."
   ]
  },
  {
   "cell_type": "code",
   "execution_count": 8,
   "id": "137a6756-eaed-4251-b1b7-1b7f464b1b05",
   "metadata": {},
   "outputs": [
    {
     "name": "stdout",
     "output_type": "stream",
     "text": [
      "I am dipanjan pathak enrolled in Data Science\n"
     ]
    }
   ],
   "source": [
    "string = 'I am dipanjan    pathak         enrolled in Data Science       '\n",
    "newString= string.split()\n",
    "finalString = \" \".join(newString)\n",
    "print(finalString)"
   ]
  },
  {
   "cell_type": "raw",
   "id": "406c152b-bdc4-4b69-af90-308825c53ac1",
   "metadata": {},
   "source": [
    "34. Check if a string is a valid URL."
   ]
  },
  {
   "cell_type": "code",
   "execution_count": 7,
   "id": "030a77af-06cb-4950-9d85-2e1efcefff07",
   "metadata": {},
   "outputs": [
    {
     "ename": "NameError",
     "evalue": "name 'validators' is not defined",
     "output_type": "error",
     "traceback": [
      "\u001b[0;31m---------------------------------------------------------------------------\u001b[0m",
      "\u001b[0;31mNameError\u001b[0m                                 Traceback (most recent call last)",
      "Cell \u001b[0;32mIn[7], line 8\u001b[0m\n\u001b[1;32m      4\u001b[0m     \u001b[38;5;28;01mreturn\u001b[39;00m validators\u001b[38;5;241m.\u001b[39murl(url)\n\u001b[1;32m      6\u001b[0m url1 \u001b[38;5;241m=\u001b[39m \u001b[38;5;124m\"\u001b[39m\u001b[38;5;124mhttps://www.abharole.com\u001b[39m\u001b[38;5;124m\"\u001b[39m\n\u001b[0;32m----> 8\u001b[0m \u001b[38;5;28;01mif\u001b[39;00m \u001b[43mvalidUrl\u001b[49m\u001b[43m(\u001b[49m\u001b[43murl1\u001b[49m\u001b[43m)\u001b[49m\u001b[38;5;241m==\u001b[39m\u001b[38;5;28;01mTrue\u001b[39;00m:\n\u001b[1;32m      9\u001b[0m   \u001b[38;5;28mprint\u001b[39m (\u001b[38;5;124m'\u001b[39m\u001b[38;5;124mURL is valid\u001b[39m\u001b[38;5;124m'\u001b[39m)\n\u001b[1;32m     10\u001b[0m \u001b[38;5;28;01melse\u001b[39;00m:\n",
      "Cell \u001b[0;32mIn[7], line 4\u001b[0m, in \u001b[0;36mvalidUrl\u001b[0;34m(url)\u001b[0m\n\u001b[1;32m      3\u001b[0m \u001b[38;5;28;01mdef\u001b[39;00m \u001b[38;5;21mvalidUrl\u001b[39m(url):\n\u001b[0;32m----> 4\u001b[0m     \u001b[38;5;28;01mreturn\u001b[39;00m \u001b[43mvalidators\u001b[49m\u001b[38;5;241m.\u001b[39murl(url)\n",
      "\u001b[0;31mNameError\u001b[0m: name 'validators' is not defined"
     ]
    }
   ],
   "source": [
    "import validators\n",
    "\n",
    "def validUrl(url):\n",
    "    return validators.url(url)\n",
    "  \n",
    "url1 = \"https://www.abharole.com\"\n",
    "\n",
    "if validUrl(url1)==True:\n",
    "  print ('URL is valid')\n",
    "else:\n",
    "  print(\"Not a Valid URL\")"
   ]
  },
  {
   "cell_type": "raw",
   "id": "51b3f1b6-c046-47d7-bcc1-9e2bcd22fc0c",
   "metadata": {},
   "source": [
    "35.Extract the protocol (http or https) from a URL string."
   ]
  },
  {
   "cell_type": "code",
   "execution_count": 8,
   "id": "0ecf4d86-9e91-4c43-92fb-fd09ab4c5895",
   "metadata": {},
   "outputs": [
    {
     "name": "stdout",
     "output_type": "stream",
     "text": [
      "://www.abharole.com\n"
     ]
    }
   ],
   "source": [
    "url ='https://www.abharole.com'\n",
    "newUrl = url.replace('https',\"\")\n",
    "print (newUrl)\n"
   ]
  },
  {
   "cell_type": "raw",
   "id": "97b8119b-a89a-45a3-9614-947be52615d4",
   "metadata": {},
   "source": [
    "36. Find the frequency of each character in a string."
   ]
  },
  {
   "cell_type": "code",
   "execution_count": 9,
   "id": "ce16dd6c-f62b-430e-8c04-6b4c16fd833b",
   "metadata": {},
   "outputs": [
    {
     "name": "stdout",
     "output_type": "stream",
     "text": [
      "Character: I, Count: 1\n",
      "Character:  , Count: 3\n",
      "Character: l, Count: 1\n",
      "Character: o, Count: 1\n",
      "Character: v, Count: 1\n",
      "Character: e, Count: 3\n",
      "Character: d, Count: 1\n",
      "Character: a, Count: 2\n",
      "Character: t, Count: 1\n",
      "Character: s, Count: 1\n",
      "Character: c, Count: 2\n",
      "Character: i, Count: 1\n",
      "Character: n, Count: 1\n"
     ]
    }
   ],
   "source": [
    "string = \"I love data science\"\n",
    "frequency = {}\n",
    "\n",
    "for char in string:\n",
    "    if char in frequency:\n",
    "        frequency[char] += 1\n",
    "    else:\n",
    "        frequency[char] = 1\n",
    "\n",
    "for char, count in frequency.items():\n",
    "    print(f'Character: {char}, Count: {count}')\n"
   ]
  },
  {
   "cell_type": "raw",
   "id": "3ac35d52-12c0-487c-8b33-e9a0379bfccd",
   "metadata": {},
   "source": [
    "37. Remove all punctuation from a string."
   ]
  },
  {
   "cell_type": "code",
   "execution_count": 10,
   "id": "48385455-6301-4d85-853c-3e35ff94380f",
   "metadata": {},
   "outputs": [
    {
     "name": "stdout",
     "output_type": "stream",
     "text": [
      "Yah thats right I love data science 1000 times\n"
     ]
    }
   ],
   "source": [
    "string = 'Yah! thats right, I love data science 1000 times'\n",
    "newList = list(string)\n",
    "lastList=[]\n",
    "\n",
    "for char in newList:\n",
    "  if char.isalnum() or char ==\" \":\n",
    "    lastList.append(char)\n",
    "newString = \"\".join(lastList)\n",
    "print(newString)"
   ]
  },
  {
   "cell_type": "raw",
   "id": "d08dd80b-c9b9-4769-9657-fc97372f2eb9",
   "metadata": {},
   "source": [
    "38. Check if a string contains only digits."
   ]
  },
  {
   "cell_type": "code",
   "execution_count": 10,
   "id": "3f844333-8a6b-4dd5-8612-7511617c433b",
   "metadata": {},
   "outputs": [
    {
     "name": "stdout",
     "output_type": "stream",
     "text": [
      "The string not contains only digits and the non digits are b,n,g,n,g,n\n"
     ]
    }
   ],
   "source": [
    "string = '3464bngngn8725'\n",
    "nonDigits =[]\n",
    "\n",
    "for char in string:\n",
    "  if not char.isdigit():\n",
    "    nonDigits.append(char)\n",
    "digitList = \",\".join(nonDigits)\n",
    "if not nonDigits:\n",
    "    print(\"The string contains only digits.\")\n",
    "else:\n",
    "     print(f'The string not contains only digits and the non digits are {digitList}')"
   ]
  },
  {
   "cell_type": "raw",
   "id": "c8cdb3cc-c255-461a-a933-0c441fc4e8e6",
   "metadata": {},
   "source": [
    "39. Check if a string contains only alphabets."
   ]
  },
  {
   "cell_type": "code",
   "execution_count": 12,
   "id": "ccf8f406-3835-48a2-9f20-abb092fdfccd",
   "metadata": {},
   "outputs": [
    {
     "name": "stdout",
     "output_type": "stream",
     "text": [
      "The string not contains only alphabets and the non alphabets are 3,4,6,4,8,7,2,5\n"
     ]
    }
   ],
   "source": [
    "string = '3464bngngn8725'\n",
    "nonAlpha =[]\n",
    "\n",
    "for char in string:\n",
    "  if not char.isalpha():\n",
    "    nonAlpha.append(char)\n",
    "alphaList = \",\".join(nonAlpha)\n",
    "if not nonAlpha:\n",
    "  print(\"The string contains only alphabets.\")\n",
    "else:\n",
    "  print(f'The string not contains only alphabets and the non alphabets are {alphaList}')"
   ]
  },
  {
   "cell_type": "raw",
   "id": "67a42e85-ac2c-4eb6-a0b3-0d7a24776150",
   "metadata": {},
   "source": [
    "40. Convert a string to a list of characters."
   ]
  },
  {
   "cell_type": "code",
   "execution_count": 11,
   "id": "b224be4b-ff31-4d04-a2dc-7b442f4b8525",
   "metadata": {},
   "outputs": [
    {
     "name": "stdout",
     "output_type": "stream",
     "text": [
      "['H', 'e', 'l', 'l', 'o', ' ', 'W', 'o', 'r', 'l', 'd', '!']\n"
     ]
    }
   ],
   "source": [
    "string = string =\"Hello World!\"\n",
    "list = list(string)\n",
    "print(list)"
   ]
  },
  {
   "cell_type": "raw",
   "id": "0804bcee-6872-4aaf-94ec-f7f9e3578951",
   "metadata": {},
   "source": [
    "41. Check if two strings are anagrams."
   ]
  },
  {
   "cell_type": "code",
   "execution_count": 13,
   "id": "79cd5156-7416-4601-8521-12ff6dc057a0",
   "metadata": {},
   "outputs": [
    {
     "name": "stdout",
     "output_type": "stream",
     "text": [
      "They are anagrams\n"
     ]
    }
   ],
   "source": [
    "string1= \"Dipanjan\"\n",
    "string2= \"ipDAnjan\"\n",
    "\n",
    "if sorted(string1.lower())!= sorted(string2.lower()):\n",
    "  print (\"They are not anagrams\")\n",
    "else:\n",
    "  print(\"They are anagrams\")"
   ]
  },
  {
   "cell_type": "raw",
   "id": "c2970df4-6ccf-4a5c-8221-41cbb20f5a02",
   "metadata": {},
   "source": [
    "42. Encode a string using a Caesar cipher."
   ]
  },
  {
   "cell_type": "code",
   "execution_count": null,
   "id": "dcf6625b-e370-41fe-95e0-2dc4ce3b0086",
   "metadata": {},
   "outputs": [],
   "source": [
    "string = input(\"Enter Your string to encrypt: \")\n",
    "lowerAlphabet= 'abcdefghijklmnopqrstuvwxyz'\n",
    "UpperAlphabet= 'ABCDEFGHIJKLMNOPQRSTUVWXYZ'\n",
    "newList=[]\n",
    "for char in string:\n",
    "  \n",
    "    if char.isupper():\n",
    "      newIndex =(UpperAlphabet.index(char)+4)%26\n",
    "      newList.append(UpperAlphabet[newIndex])\n",
    "      \n",
    "    elif char.islower():\n",
    "      newIndex =(lowerAlphabet.index(char)+4)%26\n",
    "      newList.append(lowerAlphabet[newIndex])\n",
    "    else:\n",
    "      newList.append(char)\n",
    "      \n",
    "encryption= \"\".join(newList)\n",
    "print(f'The encrypted sentence is: \"{encryption}\"')"
   ]
  },
  {
   "cell_type": "raw",
   "id": "430687c2-1558-4990-bb47-8e549e0a137f",
   "metadata": {},
   "source": [
    "43. Decode a Caesar cipher encoded string."
   ]
  },
  {
   "cell_type": "code",
   "execution_count": 14,
   "id": "80716cf8-b2df-453e-a18b-bb0874451ccf",
   "metadata": {},
   "outputs": [
    {
     "name": "stdin",
     "output_type": "stream",
     "text": [
      "Enter 'E' for encrytion 'D' for decode:  e\n",
      "Enter Your string to encrypt:  DipanJan Pathak\n"
     ]
    },
    {
     "name": "stdout",
     "output_type": "stream",
     "text": [
      "The encrypted sentence is: \"HmterNer Texleo\"\n"
     ]
    }
   ],
   "source": [
    "string = input(\"Enter 'E' for encrytion 'D' for decode: \")\n",
    "modifiedInput= string.lower()\n",
    "\n",
    "if modifiedInput =='e':\n",
    "  string = input(\"Enter Your string to encrypt: \")\n",
    "  lowerAlphabet= 'abcdefghijklmnopqrstuvwxyz'\n",
    "  UpperAlphabet= lowerAlphabet.upper()\n",
    "  newList=[]\n",
    "  for char in string:\n",
    "\n",
    "      if char.isupper():\n",
    "        newIndex =(UpperAlphabet.index(char)+4)%26\n",
    "        newList.append(UpperAlphabet[newIndex])\n",
    "\n",
    "      elif char.islower():\n",
    "        newIndex =(lowerAlphabet.index(char)+4)%26\n",
    "        newList.append(lowerAlphabet[newIndex])\n",
    "      else:\n",
    "        newList.append(char)\n",
    "\n",
    "  encryption= \"\".join(newList)\n",
    "  print(f'The encrypted sentence is: \"{encryption}\"')\n",
    "\n",
    "elif modifiedInput =='d':\n",
    "  string = input(\"Enter Your string to decrypt: \")\n",
    "  lowerAlphabet= 'abcdefghijklmnopqrstuvwxyz'\n",
    "  UpperAlphabet= lowerAlphabet.upper()\n",
    "  newList=[]\n",
    "  for char in string:\n",
    "\n",
    "      if char.isupper():\n",
    "        newIndex =(UpperAlphabet.index(char)-4)%26\n",
    "        newList.append(UpperAlphabet[newIndex])\n",
    "\n",
    "      elif char.islower():\n",
    "        newIndex =(lowerAlphabet.index(char)-4)%26\n",
    "        newList.append(lowerAlphabet[newIndex])\n",
    "      else:\n",
    "        newList.append(char)\n",
    "\n",
    "  dencryption= \"\".join(newList)\n",
    "  print(f'The decrypted sentence is: \"{dencryption}\"')"
   ]
  },
  {
   "cell_type": "raw",
   "id": "0770c8ed-8b87-403d-9648-4550a8601f2e",
   "metadata": {},
   "source": [
    "44. Find the most frequent word in a string."
   ]
  },
  {
   "cell_type": "code",
   "execution_count": 18,
   "id": "ff5b359f-3c7f-49b5-95e4-857b0b367ef0",
   "metadata": {},
   "outputs": [
    {
     "name": "stdout",
     "output_type": "stream",
     "text": [
      "The most frequent word is: i\n"
     ]
    }
   ],
   "source": [
    "inputString = \"I am Dipanjan Pathak. I Love Data Science\"\n",
    "def mostFrequentWord(inputString):\n",
    "  words = inputString.split()\n",
    "  wordCounts = {}\n",
    "\n",
    "  for word in words:\n",
    "      word = word.lower()\n",
    "      wordCounts[word] = wordCounts.get(word, 0) + 1\n",
    "\n",
    "  mostFrequentWord = max(wordCounts, key= wordCounts.get)\n",
    "  return mostFrequentWord\n",
    "\n",
    "result = mostFrequentWord(inputString)\n",
    "print(f\"The most frequent word is: {result}\")"
   ]
  },
  {
   "cell_type": "code",
   "execution_count": 22,
   "id": "a550d43f-1ee2-4fe0-8917-d898bb6c29b6",
   "metadata": {},
   "outputs": [
    {
     "name": "stdout",
     "output_type": "stream",
     "text": [
      "Unique words in the string: {'I', 'Data', 'Love', 'Pathak.', 'Science', 'am', 'Dipanjan'}\n"
     ]
    }
   ],
   "source": [
    "inputString = \"I am Dipanjan Pathak. I Love Data Science\"\n",
    "\n",
    "def uniqueWords(inputString):\n",
    "    words = inputString.split()\n",
    "    uniqueWordSet = set(words)\n",
    "    return uniqueWordSet\n",
    "\n",
    "result = uniqueWords(inputString)\n",
    "print(f\"Unique words in the string: {result}\")\n"
   ]
  },
  {
   "cell_type": "raw",
   "id": "d960f7fa-e2e3-4d7a-80de-aca2ea090446",
   "metadata": {},
   "source": [
    "46. Count the number of syllables in a string."
   ]
  },
  {
   "cell_type": "code",
   "execution_count": null,
   "id": "f988087f-24ff-44ff-9272-2e02f8e57d4a",
   "metadata": {},
   "outputs": [],
   "source": [
    "string = \"I am Dipanjan Pathak\"\n",
    "count =0\n",
    "vowel = 'aeiouAEIOU '\n",
    "for char in string:\n",
    "  if not char in vowel:\n",
    "     count +=1\n",
    "print(f'The total number of sylleble in the string is {count}')"
   ]
  },
  {
   "cell_type": "raw",
   "id": "0b275e20-9dca-420a-995b-bf779724095c",
   "metadata": {},
   "source": [
    "47. Check if a string contains any special characters."
   ]
  },
  {
   "cell_type": "code",
   "execution_count": null,
   "id": "d854d451-c443-4d4e-b794-394ee3a2e7f5",
   "metadata": {},
   "outputs": [],
   "source": [
    "string ='Hi! I am Dipanjan Pathak. I love Data Science!'\n",
    "character = 'ABCDEFGHIJKLMNOPQRSTUVWXYZabcdefghijklmnopqrstuvwxyz1234567890 '\n",
    "count =0\n",
    "for char in string:\n",
    "  if not char in character:\n",
    "    count +=1\n",
    "print (f'Yes, the string contains total {count} number of special character ')"
   ]
  },
  {
   "cell_type": "raw",
   "id": "a26a8df3-d92f-4b93-84c6-7f438949d25a",
   "metadata": {},
   "source": [
    "48. Remove the nth word from a string."
   ]
  },
  {
   "cell_type": "code",
   "execution_count": 24,
   "id": "8164333c-055d-4c96-a68f-4a8b1dd18e54",
   "metadata": {},
   "outputs": [
    {
     "name": "stdout",
     "output_type": "stream",
     "text": [
      "'I am Dipanjan Pathak. I love Data Science'\n"
     ]
    },
    {
     "name": "stdin",
     "output_type": "stream",
     "text": [
      "Enter index number you want to remove:  4\n"
     ]
    },
    {
     "name": "stdout",
     "output_type": "stream",
     "text": [
      "'I am Dipanjan Pathak. love Data Science'\n"
     ]
    }
   ],
   "source": [
    "string = \"'I am Dipanjan Pathak. I love Data Science'\"\n",
    "stringSplit= string.split()\n",
    "print(string)\n",
    "wordIndex =int(input(\"Enter index number you want to remove: \"))\n",
    "newList = stringSplit.pop(wordIndex)\n",
    "newString= \" \".join(stringSplit)\n",
    "print(newString)"
   ]
  },
  {
   "cell_type": "raw",
   "id": "827aa00b-393d-48b6-8194-23e1bc6dc751",
   "metadata": {},
   "source": [
    "49. Insert a word at the nth position in a string."
   ]
  },
  {
   "cell_type": "code",
   "execution_count": 25,
   "id": "f3eacc94-648a-4113-bfec-e14a48b683d5",
   "metadata": {},
   "outputs": [
    {
     "name": "stdout",
     "output_type": "stream",
     "text": [
      "'I am Dipanjan Pathak. I love Data Science'\n"
     ]
    },
    {
     "name": "stdin",
     "output_type": "stream",
     "text": [
      "Enter index number you want to add the data:  5\n",
      "Enter data:  kalu\n"
     ]
    },
    {
     "name": "stdout",
     "output_type": "stream",
     "text": [
      "'I am Dipanjan Pathak. I kalu love Data Science'\n"
     ]
    }
   ],
   "source": [
    "string = \"'I am Dipanjan Pathak. I love Data Science'\"\n",
    "stringSplit= string.split()\n",
    "print(string)\n",
    "wordIndex =int(input(\"Enter index number you want to add the data: \"))\n",
    "newData = input(\"Enter data: \")\n",
    "stringSplit.insert(wordIndex, newData)\n",
    "newString= \" \".join(stringSplit)\n",
    "print(newString)"
   ]
  },
  {
   "cell_type": "raw",
   "id": "5312714c-1286-46bf-ae51-5f5db3e0736f",
   "metadata": {},
   "source": [
    "50.Convert a CSV string to a list of lists."
   ]
  },
  {
   "cell_type": "code",
   "execution_count": null,
   "id": "7b84db02-1c4e-4c5f-acb7-8d4322467af9",
   "metadata": {},
   "outputs": [],
   "source": [
    "csvString = \"\"\"Name, Age, Country\n",
    "Dipanjan, 27, India\n",
    "Ayush, 30, USA\n",
    "Rohan, 22, UK\"\"\"\n",
    "\n",
    "csvList = [line.split(\",\") for line in csvString.split(\"\\n\")]\n",
    "csvList = [row for row in csvList if row]\n",
    "\n",
    "for row in csvList:\n",
    "    print(row)"
   ]
  },
  {
   "cell_type": "code",
   "execution_count": null,
   "id": "05e4d3ca-a9ed-440c-8d26-90a5ef441de0",
   "metadata": {},
   "outputs": [],
   "source": [
    "\n",
    "\n",
    "\n",
    "\n",
    "List Based Practice Problem :\n",
    "    \n",
    "    \n"
   ]
  },
  {
   "cell_type": "raw",
   "id": "521a7e9f-f8ff-4f3e-ba20-6d83865f0d6a",
   "metadata": {},
   "source": [
    "1. Create a list with integers from 1 to 10."
   ]
  },
  {
   "cell_type": "code",
   "execution_count": 27,
   "id": "968199e0-8719-4f3f-9ecd-30be26c89568",
   "metadata": {},
   "outputs": [
    {
     "name": "stdout",
     "output_type": "stream",
     "text": [
      "[1, 2, 3, 4, 5, 6, 7, 8, 9, 10] "
     ]
    }
   ],
   "source": [
    "numberList= [i for i in range (1,11)]\n",
    "print(numberList,end=\" \")"
   ]
  },
  {
   "cell_type": "raw",
   "id": "32d63e0f-1663-4c15-9b4d-45ceb0637910",
   "metadata": {},
   "source": [
    "2. Find the length of a list without using the `len()` function."
   ]
  },
  {
   "cell_type": "code",
   "execution_count": null,
   "id": "e300c994-b25b-4b85-8405-25fcee1f638e",
   "metadata": {},
   "outputs": [],
   "source": [
    "list =[\"a\",\"b\",\"c\",\"d\",\"e\",\"f\",\"1\",\"2\",\"True\",\"g\"]\n",
    "count =0\n",
    "for i in list:\n",
    "  count +=1\n",
    "print (f'Length of List is {count}')"
   ]
  },
  {
   "cell_type": "raw",
   "id": "637d130b-59a0-4d17-a5e4-30e208025a5f",
   "metadata": {},
   "source": [
    "3. Append an element to the end of a list."
   ]
  },
  {
   "cell_type": "code",
   "execution_count": null,
   "id": "d27fca58-e1dc-429f-a757-e717ee03d856",
   "metadata": {},
   "outputs": [],
   "source": [
    "list =[\"a\",\"b\",\"c\",\"d\",\"e\",\"f\",\"1\",\"2\",\"True\",\"g\"]\n",
    "list.append('i')\n",
    "print(list)"
   ]
  },
  {
   "cell_type": "raw",
   "id": "7c9a9d16-7e21-47f9-8190-5a946b852587",
   "metadata": {},
   "source": [
    "4. Insert an element at a specific index in a list."
   ]
  },
  {
   "cell_type": "code",
   "execution_count": null,
   "id": "af4e2f0e-1439-42e0-b0f2-ae37c71c6880",
   "metadata": {},
   "outputs": [],
   "source": [
    "list =[\"a\",\"b\",\"c\",\"d\",\"e\",\"f\",\"1\",\"2\",\"True\",\"g\"]\n",
    "list.insert(5,'j')\n",
    "print(list)"
   ]
  },
  {
   "cell_type": "raw",
   "id": "384d8106-6e4c-4570-a57f-ef0bbdd3f6ac",
   "metadata": {},
   "source": [
    "5. Remove an element from a list by its value."
   ]
  },
  {
   "cell_type": "code",
   "execution_count": null,
   "id": "b0bed1f2-99b6-41fe-b37c-c476eff8bdcd",
   "metadata": {},
   "outputs": [],
   "source": [
    "list =[\"a\",\"b\",\"c\",\"d\",\"e\",\"f\",\"1\",\"2\",\"True\",\"g\"]\n",
    "list.pop(list.index('c'))\n",
    "print(list)"
   ]
  },
  {
   "cell_type": "raw",
   "id": "ad89fa06-8b62-4c65-ad4a-aad21b4d67ce",
   "metadata": {},
   "source": [
    "6. Remove an element from a list by its index."
   ]
  },
  {
   "cell_type": "code",
   "execution_count": 1,
   "id": "03f8f0dc-1aed-41a9-9dcd-242b1491a298",
   "metadata": {},
   "outputs": [
    {
     "name": "stdout",
     "output_type": "stream",
     "text": [
      "['a', 'b', 'c', 'd', 'f', '1', '2', 'True', 'g']\n"
     ]
    }
   ],
   "source": [
    "list =[\"a\",\"b\",\"c\",\"d\",\"e\",\"f\",\"1\",\"2\",\"True\",\"g\"]\n",
    "list.pop(4)\n",
    "print(list)"
   ]
  },
  {
   "cell_type": "raw",
   "id": "0f0ed74a-2652-40bc-9ee2-ec481714e9ed",
   "metadata": {},
   "source": [
    "7. Check if an element exists in a list."
   ]
  },
  {
   "cell_type": "code",
   "execution_count": null,
   "id": "eec845ca-a3c6-4afa-9c75-ef13da3aeca9",
   "metadata": {},
   "outputs": [],
   "source": [
    "list =[\"a\",\"b\",\"c\",\"d\",\"e\",\"f\",\"1\",\"2\",\"True\",\"g\"]\n",
    "element ='g'\n",
    "\n",
    "if element in list:   \n",
    "    print(f'element exist in the list')\n",
    "else:\n",
    "    print(f'element does not exist in the list')"
   ]
  },
  {
   "cell_type": "raw",
   "id": "b52fcd05-8827-4e24-b508-26e341f535ee",
   "metadata": {},
   "source": [
    "8. Find the index of the first occurrence of an element in a list."
   ]
  },
  {
   "cell_type": "code",
   "execution_count": null,
   "id": "487be478-bd4b-477b-a90f-94eeca7cbb6a",
   "metadata": {},
   "outputs": [],
   "source": [
    "list =[\"a\",\"b\",\"c\",\"d\",\"e\",\"f\",\"1\",\"2\",\"True\",\"g\"]\n",
    "element = 'c'\n",
    "index = list.index(element)\n",
    "print(index)"
   ]
  },
  {
   "cell_type": "raw",
   "id": "d0ce5a78-084a-4450-b228-a945f1fb5849",
   "metadata": {},
   "source": [
    "9. Count the occurrences of an element in a list."
   ]
  },
  {
   "cell_type": "code",
   "execution_count": null,
   "id": "6b515e40-3539-4ad7-9233-22213faf8856",
   "metadata": {},
   "outputs": [],
   "source": [
    "list =[\"a\",\"b\",\"c\",'a',\"d\",\"e\",'a',\"f\",\"1\",\"2\",\"True\",\"g\"]\n",
    "item ='a'\n",
    "count =0\n",
    "for element in list:\n",
    "  if element ==item:\n",
    "    count +=1\n",
    "print (f'The total no of \"{item}\" is {count}')"
   ]
  },
  {
   "cell_type": "raw",
   "id": "a590b4e2-9a56-48bc-9a0f-74af163725b0",
   "metadata": {},
   "source": [
    "10. Reverse the order of elements in a list."
   ]
  },
  {
   "cell_type": "code",
   "execution_count": null,
   "id": "7fc2d616-2fb2-45a1-914f-3c8fc7534aff",
   "metadata": {},
   "outputs": [],
   "source": [
    "list =[\"a\",\"b\",\"c\",'a',\"d\",\"e\",'a',\"f\",\"1\",\"2\",\"True\",\"g\"]\n",
    "list.reverse()\n",
    "print(list)"
   ]
  },
  {
   "cell_type": "raw",
   "id": "74cfbb37-469a-4725-9ec6-eb470f73738d",
   "metadata": {},
   "source": [
    "11. Sort a list in ascending order."
   ]
  },
  {
   "cell_type": "code",
   "execution_count": null,
   "id": "5f06a71e-f070-45eb-813b-20c0d1f2377c",
   "metadata": {},
   "outputs": [],
   "source": [
    "list =[\"a\",\"b\",\"c\",'a',\"f\",\"e\",'a',\"d\",\"1\",\"2\",\"True\",\"g\"]\n",
    "list.sort()\n",
    "print(list)"
   ]
  },
  {
   "cell_type": "raw",
   "id": "3aab5073-81e8-46ac-b1de-fdb1897ecb96",
   "metadata": {},
   "source": [
    "12. Sort a list in descending order."
   ]
  },
  {
   "cell_type": "code",
   "execution_count": null,
   "id": "3b556f35-d3d3-4efb-9423-0b09318f7d20",
   "metadata": {},
   "outputs": [],
   "source": [
    "list =[\"a\",\"b\",\"c\",'a',\"f\",\"e\",'a',\"d\",\"1\",\"2\",\"True\",\"g\"]\n",
    "list.sort()\n",
    "list.reverse()\n",
    "print(list)"
   ]
  },
  {
   "cell_type": "raw",
   "id": "0893c881-a358-4223-82ce-d35b45f45e3e",
   "metadata": {},
   "source": [
    "13. Create a list of even numbers from 1 to 20."
   ]
  },
  {
   "cell_type": "code",
   "execution_count": 3,
   "id": "97bb1f8d-ecab-49c3-93bb-bc0a77c38e55",
   "metadata": {},
   "outputs": [
    {
     "ename": "TypeError",
     "evalue": "'list' object is not callable",
     "output_type": "error",
     "traceback": [
      "\u001b[0;31m---------------------------------------------------------------------------\u001b[0m",
      "\u001b[0;31mTypeError\u001b[0m                                 Traceback (most recent call last)",
      "Cell \u001b[0;32mIn[3], line 1\u001b[0m\n\u001b[0;32m----> 1\u001b[0m list1 \u001b[38;5;241m=\u001b[39m\u001b[38;5;28;43mlist\u001b[39;49m\u001b[43m(\u001b[49m\u001b[38;5;28;43mrange\u001b[39;49m\u001b[43m(\u001b[49m\u001b[38;5;241;43m1\u001b[39;49m\u001b[43m,\u001b[49m\u001b[38;5;241;43m21\u001b[39;49m\u001b[43m)\u001b[49m\u001b[43m)\u001b[49m\n\u001b[1;32m      2\u001b[0m evenList\u001b[38;5;241m=\u001b[39m[]\n\u001b[1;32m      3\u001b[0m \u001b[38;5;28;01mfor\u001b[39;00m item \u001b[38;5;129;01min\u001b[39;00m list1:\n",
      "\u001b[0;31mTypeError\u001b[0m: 'list' object is not callable"
     ]
    }
   ],
   "source": [
    "numberList =list(range(1,21))\n",
    "evenList=[]\n",
    "for item in numberList:\n",
    "  if item%2==0:\n",
    "    evenList.append(item)\n",
    "print(evenList)"
   ]
  },
  {
   "cell_type": "raw",
   "id": "dcd488b3-8766-42bc-bc6c-a58e7bb3defa",
   "metadata": {},
   "source": [
    "14. Create a list of odd numbers from 1 to 20."
   ]
  },
  {
   "cell_type": "code",
   "execution_count": null,
   "id": "6d023592-a893-41a2-9061-400208273678",
   "metadata": {},
   "outputs": [],
   "source": [
    "numberList =list(range(1,21))\n",
    "oddList=[]\n",
    "for item in numberList:\n",
    "  if item%2==1:\n",
    "    oddList.append(item)\n",
    "print(oddList)"
   ]
  },
  {
   "cell_type": "raw",
   "id": "72e75e5d-3245-4cda-837d-5cd516786044",
   "metadata": {},
   "source": [
    "15. Find the sum of all elements in a list."
   ]
  },
  {
   "cell_type": "code",
   "execution_count": null,
   "id": "735dbca5-6d71-423e-9df2-521b6f67f53e",
   "metadata": {},
   "outputs": [],
   "source": [
    "numberList =list(range(1,21))\n",
    "sum =0\n",
    "for item in numberList:\n",
    "  sum +=item\n",
    "print(f'Sum is {sum}')"
   ]
  },
  {
   "cell_type": "raw",
   "id": "24ad8cc2-dc78-462b-9e7f-3406721a9a7b",
   "metadata": {},
   "source": [
    "16. Find the maximum value in a list."
   ]
  },
  {
   "cell_type": "code",
   "execution_count": 1,
   "id": "485deaef-38aa-4a3f-8aae-9c099dd6c790",
   "metadata": {},
   "outputs": [
    {
     "name": "stdout",
     "output_type": "stream",
     "text": [
      "The maximum number is 89\n"
     ]
    }
   ],
   "source": [
    "numbers = [20, 34, 46, 78, 12, 56, 89, 23, 41, 67]\n",
    "maxNumber=max(numbers)\n",
    "print(f'The maximum number is {maxNumber}')"
   ]
  },
  {
   "cell_type": "code",
   "execution_count": 2,
   "id": "b83cc43e-52cc-4afd-b6a1-4f41158beddc",
   "metadata": {},
   "outputs": [
    {
     "name": "stdout",
     "output_type": "stream",
     "text": [
      "The minimum number is 12\n"
     ]
    }
   ],
   "source": [
    "numbers = [20, 34, 46, 78, 12, 56, 89, 23, 41, 67]\n",
    "minNumber= min(numbers)\n",
    "print(f'The minimum number is {minNumber}')"
   ]
  },
  {
   "cell_type": "raw",
   "id": "a4809cfe-2207-4fda-a893-47e9c81e7a27",
   "metadata": {},
   "source": [
    "18. Create a list of squares of numbers from 1 to 10."
   ]
  },
  {
   "cell_type": "code",
   "execution_count": null,
   "id": "d83dd327-0451-48a4-9bba-fa9a04a0bf13",
   "metadata": {},
   "outputs": [],
   "source": [
    "numbers= list(range(1,11))\n",
    "newlist =[]\n",
    "for item in numbers:\n",
    "  newitem =item**2\n",
    "  newlist.append(newitem)\n",
    "print(newlist)"
   ]
  },
  {
   "cell_type": "raw",
   "id": "11a04595-7aae-4b4f-b932-34d3fcbb69b1",
   "metadata": {},
   "source": [
    "19. Create a list of random numbers."
   ]
  },
  {
   "cell_type": "code",
   "execution_count": 3,
   "id": "3928e5a7-3506-42fa-9c54-caac668fd0e3",
   "metadata": {},
   "outputs": [
    {
     "name": "stdout",
     "output_type": "stream",
     "text": [
      "[93, 54, 29, 35, 80, 90, 55, 45, 44, 83]\n"
     ]
    }
   ],
   "source": [
    "import random\n",
    "list =[]\n",
    "for i in range(1,11):\n",
    " randomNumber= random.randint(1,100)\n",
    " list.append(randomNumber)\n",
    "print(list)"
   ]
  },
  {
   "cell_type": "raw",
   "id": "7a498b9a-8fd1-44ab-b0bb-20429bb6428f",
   "metadata": {},
   "source": [
    "20. Remove duplicates from a list."
   ]
  },
  {
   "cell_type": "code",
   "execution_count": 6,
   "id": "517da80f-5abb-48b8-b136-da5f00a2cd4e",
   "metadata": {},
   "outputs": [
    {
     "name": "stdout",
     "output_type": "stream",
     "text": [
      "After removing dupicates the final list is [8, 92, 14, 34, 1, 7, 16, 56]\n"
     ]
    }
   ],
   "source": [
    "list =[8, 92, 14, 34, 34, 1, 7, 16, 56, 16]\n",
    "newlist =[]\n",
    "for char in list:\n",
    " if  char not in newlist:\n",
    "   newlist.append(char)\n",
    "print(f'After removing dupicates the final list is {newlist}')"
   ]
  },
  {
   "cell_type": "raw",
   "id": "6638fc33-d424-41a3-a6cb-a1e8305de567",
   "metadata": {},
   "source": [
    "21. Find the common elements between two lists."
   ]
  },
  {
   "cell_type": "code",
   "execution_count": 5,
   "id": "137d9177-8a58-406e-8d9a-c7be66cd7917",
   "metadata": {},
   "outputs": [
    {
     "name": "stdout",
     "output_type": "stream",
     "text": [
      "The common between to list is [1, 2, 3]\n"
     ]
    }
   ],
   "source": [
    "list1= [1,2,3,4,5]\n",
    "list2=[1,2,3,6,7]\n",
    "newList= []\n",
    "for char in list1:\n",
    "    if char in list2 :\n",
    "      newList.append(char)\n",
    "\n",
    "print(f'The common between to list is {newList}')"
   ]
  },
  {
   "cell_type": "raw",
   "id": "6a29a150-4f85-44a4-af39-54fc2dafb1b2",
   "metadata": {},
   "source": [
    "22. Find the difference between two lists."
   ]
  },
  {
   "cell_type": "code",
   "execution_count": 9,
   "id": "10cc6b43-13fb-42e5-a434-8734e92ca79b",
   "metadata": {},
   "outputs": [
    {
     "name": "stdout",
     "output_type": "stream",
     "text": [
      "The differnce between to list, means the element present in list1 but not present in list2 is [4, 5]\n"
     ]
    }
   ],
   "source": [
    "list1= [1,2,3,4,5]\n",
    "list2=[1,2,3,6,7]\n",
    "newList= []\n",
    "for char in list1:\n",
    "    if char not in list2 :\n",
    "      newList.append(char)\n",
    "\n",
    "print(f'The differnce between to list, means the element present in list1 but not present in list2 is {newList}')"
   ]
  },
  {
   "cell_type": "raw",
   "id": "ce48994c-bfa0-4e8b-a366-9d23e6f740f4",
   "metadata": {},
   "source": [
    "23. Merge two lists."
   ]
  },
  {
   "cell_type": "code",
   "execution_count": null,
   "id": "88f7495e-828f-49e0-b614-6e0c94d84f54",
   "metadata": {},
   "outputs": [],
   "source": [
    "list1= [1,2,3,4,5]\n",
    "list2=[1,2,3,6,7]\n",
    "newList= list1+list2\n",
    "\n",
    "print(f'The new list is {newList}')"
   ]
  },
  {
   "cell_type": "raw",
   "id": "53fdf3fb-e9f6-4705-8d85-6ae284773974",
   "metadata": {},
   "source": [
    "24. Multiply all elements in a list by 2."
   ]
  },
  {
   "cell_type": "code",
   "execution_count": null,
   "id": "3bb924bf-d6ab-49f4-96a2-4f2313559ab8",
   "metadata": {},
   "outputs": [],
   "source": [
    "list= [1,2,3,4,5]\n",
    "finalList=[]\n",
    "for item in list:\n",
    "  item=item*2\n",
    "  finalList.append(item)\n",
    "  \n",
    "print(finalList)"
   ]
  },
  {
   "cell_type": "raw",
   "id": "26eb9992-3581-4092-9d72-ab7d97613157",
   "metadata": {},
   "source": [
    "25. Filter out all even numbers from a list."
   ]
  },
  {
   "cell_type": "code",
   "execution_count": null,
   "id": "40413c6e-814a-4a25-b80b-6792e6bbddb5",
   "metadata": {},
   "outputs": [],
   "source": [
    "list1= list(range(1,21))\n",
    "\n",
    "newList = list(filter(lambda x: x % 2 == 0, list1))\n",
    "print(newList)"
   ]
  },
  {
   "cell_type": "raw",
   "id": "fc1f1991-a8cf-4a92-9cb4-804ca9a0ec81",
   "metadata": {},
   "source": [
    "26. Convert a list of strings to a list of integers."
   ]
  },
  {
   "cell_type": "code",
   "execution_count": 1,
   "id": "631806df-9640-4319-9ef1-31cf8df3277e",
   "metadata": {},
   "outputs": [
    {
     "name": "stdout",
     "output_type": "stream",
     "text": [
      "[10, 25, 5, 42, 8]\n"
     ]
    }
   ],
   "source": [
    "theList = [\"10\", \"25\", \"5\", \"42\", \"8\"]\n",
    "newList=[]\n",
    "for item in theList:\n",
    "  item = int(item)\n",
    "  newList.append(item)\n",
    "print(newList)"
   ]
  },
  {
   "cell_type": "raw",
   "id": "43a2679d-933f-4793-b977-cd2582b82681",
   "metadata": {},
   "source": [
    "27. Convert a list of integers to a list of strings."
   ]
  },
  {
   "cell_type": "code",
   "execution_count": null,
   "id": "0fce0c06-96a3-4668-b6c0-de23bb18fdcb",
   "metadata": {},
   "outputs": [],
   "source": [
    "theList = [10, 25, 5, 42, 8]\n",
    "newList=[]\n",
    "for item in theList:\n",
    "  item = str(item)\n",
    "  newList.append(item)\n",
    "print(newList)"
   ]
  },
  {
   "cell_type": "raw",
   "id": "ca864e5e-c26a-45a3-bc33-93c7bfc460a1",
   "metadata": {},
   "source": [
    "28. Flatten a nested list."
   ]
  },
  {
   "cell_type": "code",
   "execution_count": null,
   "id": "706b00d9-b3d1-426e-a503-8087662de6b5",
   "metadata": {},
   "outputs": [],
   "source": [
    "theList = [[1, 2, 3], [4, 5, 6], [7, 8, 9]]\n",
    "newlist= theList[0]+theList[1]+theList[2]\n",
    "print(newlist)"
   ]
  },
  {
   "cell_type": "raw",
   "id": "a6d5272d-c33a-47e1-bd83-073960585c09",
   "metadata": {},
   "source": [
    "29. Create a list of the first 10 Fibonacci numbers."
   ]
  },
  {
   "cell_type": "code",
   "execution_count": 3,
   "id": "2d4d27da-88fd-46ce-8df6-ce49a7bd804a",
   "metadata": {},
   "outputs": [
    {
     "name": "stdout",
     "output_type": "stream",
     "text": [
      "[0, 1, 1, 2, 3, 5, 8, 13, 21, 34, 55, 89]\n"
     ]
    }
   ],
   "source": [
    "\n",
    "theList= [0,1]\n",
    "i =0\n",
    "for item in theList:\n",
    " newItem= theList[i]+theList[i+1]\n",
    " theList.append(newItem)\n",
    " i+=1\n",
    " if i==10:\n",
    "  break;\n",
    "print(theList)"
   ]
  },
  {
   "cell_type": "raw",
   "id": "5207e17f-eb3d-4441-a620-a347b7b0d0d1",
   "metadata": {},
   "source": [
    "30. Check if a list is sorted."
   ]
  },
  {
   "cell_type": "code",
   "execution_count": null,
   "id": "2b2737e5-cd77-4796-9ae6-c9f1beca105e",
   "metadata": {},
   "outputs": [],
   "source": [
    "theList= [0, 1, 1, 2, 3, 5, 8, 13, 21, 34, 55, 89]\n",
    "if not sorted(theList):\n",
    "  print(\"List is not sorted\")\n",
    "else:\n",
    "  print('List is sortes')"
   ]
  },
  {
   "cell_type": "raw",
   "id": "27b40d6e-53bc-4cda-86c5-b65febd7406b",
   "metadata": {},
   "source": [
    "31. Rotate a list to the left by `n` positions."
   ]
  },
  {
   "cell_type": "code",
   "execution_count": 3,
   "id": "c1cf812b-b469-45f0-877d-df50fd463c54",
   "metadata": {},
   "outputs": [
    {
     "name": "stdin",
     "output_type": "stream",
     "text": [
      "enter index from backward where you to rotate:  3\n"
     ]
    },
    {
     "name": "stdout",
     "output_type": "stream",
     "text": [
      "[34, 55, 89, 0, 1, 1, 2, 3, 5, 8, 13, 21]\n"
     ]
    }
   ],
   "source": [
    "theList= [0, 1, 1, 2, 3, 5, 8, 13, 21, 34, 55, 89]\n",
    "rotationNumber= int(input(\"enter index number from backward where you to rotate: \"))\n",
    "extractList= theList[-1:-rotationNumber-1:-1]\n",
    "extractList.reverse()\n",
    "restList= theList[:-rotationNumber]\n",
    "finalList=extractList+restList\n",
    "print(finalList)"
   ]
  },
  {
   "cell_type": "raw",
   "id": "32beee2a-7c72-48ca-ad73-70d28ebec961",
   "metadata": {},
   "source": [
    "32. Rotate a list to the right by `n` positions."
   ]
  },
  {
   "cell_type": "code",
   "execution_count": 2,
   "id": "3921b53d-09a6-44af-8a28-deff4d852dde",
   "metadata": {},
   "outputs": [
    {
     "name": "stdin",
     "output_type": "stream",
     "text": [
      "enter index from where you to rotate:  3\n"
     ]
    },
    {
     "name": "stdout",
     "output_type": "stream",
     "text": [
      "[2, 3, 5, 8, 13, 21, 34, 55, 89, 0, 1, 1]\n"
     ]
    }
   ],
   "source": [
    "theList= [0, 1, 1, 2, 3, 5, 8, 13, 21, 34, 55, 89]\n",
    "rotationNumber= int(input(\"enter index from where you to rotate: \"))\n",
    "newList= theList[rotationNumber:]\n",
    "extraList= theList[0:rotationNumber]\n",
    "finalList=newList+extraList\n",
    "print(finalList)"
   ]
  },
  {
   "cell_type": "raw",
   "id": "0bf047d3-dc25-44bb-8cda-407927e9e3b7",
   "metadata": {},
   "source": [
    "33. Create a list of prime numbers up to 50."
   ]
  },
  {
   "cell_type": "code",
   "execution_count": 1,
   "id": "ac52acca-fd2c-4158-bf31-4d77912a0b71",
   "metadata": {},
   "outputs": [
    {
     "name": "stdout",
     "output_type": "stream",
     "text": [
      "[1, 2, 3, 5, 7, 11, 13, 17, 19, 23, 29, 31, 37, 41, 43, 47]\n"
     ]
    }
   ],
   "source": [
    "numberList =[]\n",
    "\n",
    "for i in range(1,50):\n",
    "    x = True\n",
    "    for j in range (2,i):\n",
    "     \n",
    "        if (i%j==0):\n",
    "         \n",
    "         x =False\n",
    "         break\n",
    "         \n",
    "    if x:\n",
    "        numberList.append(i)   \n",
    "print(numberList)"
   ]
  },
  {
   "cell_type": "raw",
   "id": "c99e963c-9660-4c82-96e9-b0e12f1794fc",
   "metadata": {},
   "source": [
    "34. Split a list into chunks of size `n`."
   ]
  },
  {
   "cell_type": "code",
   "execution_count": 2,
   "id": "e3dfe08c-b84b-44b8-a2eb-eb380b9d6397",
   "metadata": {},
   "outputs": [
    {
     "name": "stdout",
     "output_type": "stream",
     "text": [
      "[[1, 2, 3, 4, 5], [6, 7, 8, 9, 10], [11, 12, 13, 14, 15], [16, 17, 18, 19, 20], [21, 22, 23, 24, 25], [26, 27, 28, 29, 30], [31, 32, 33, 34, 35], [36, 37, 38, 39, 40], [41, 42, 43, 44, 45], [46, 47, 48, 49, 50]]\n"
     ]
    }
   ],
   "source": [
    "number_list = list(range(1, 51))\n",
    "new_list = []\n",
    "user_input = 5\n",
    "\n",
    "for x in range(0, len(number_list), user_input):\n",
    "    chunk = number_list[x:x + user_input]\n",
    "    new_list.append(chunk)\n",
    "\n",
    "print(new_list)\n"
   ]
  },
  {
   "cell_type": "raw",
   "id": "340adc80-b885-4500-aac3-5b0e646bf9ff",
   "metadata": {},
   "source": [
    "35. Find the second largest number in a list."
   ]
  },
  {
   "cell_type": "code",
   "execution_count": null,
   "id": "0966718f-54f9-4880-8050-00a3585b89fd",
   "metadata": {},
   "outputs": [],
   "source": [
    "number_list = [2,3,6,4,8,39,58,69,70,36]\n",
    "number_list.sort()\n",
    "number = number_list[-2]\n",
    "print(number)"
   ]
  },
  {
   "cell_type": "raw",
   "id": "3ea067d7-7601-46ef-a4b7-67bcda5a261a",
   "metadata": {},
   "source": [
    "36. Replace every element in a list with its square."
   ]
  },
  {
   "cell_type": "code",
   "execution_count": null,
   "id": "7516cd72-ee06-4a4f-9c31-58a154ef0f2b",
   "metadata": {},
   "outputs": [],
   "source": [
    "number_list =[2, 3, 4, 6, 8, 36, 39, 58, 69, 70]\n",
    "\n",
    "j =0\n",
    "while j<len(number_list):\n",
    "    number_list[j]= number_list[j]**2\n",
    "    j+=1\n",
    "print(number_list)"
   ]
  },
  {
   "cell_type": "raw",
   "id": "1c003e5a-6030-4adb-a27d-b73634a9d94f",
   "metadata": {},
   "source": [
    "37.Convert a list to a dictionary where list elements become keys and their\n",
    "indices become values."
   ]
  },
  {
   "cell_type": "code",
   "execution_count": 3,
   "id": "ff7ebc9d-405c-458e-9407-ef36e77f26f8",
   "metadata": {},
   "outputs": [
    {
     "name": "stdout",
     "output_type": "stream",
     "text": [
      "{'Ram': 0, 'Sam': 1, 'Jadu': 2, 'Madan': 3}\n"
     ]
    }
   ],
   "source": [
    "name_list = ['Ram','Sam','Jadu', 'Madan']\n",
    "new_dictionary = {}\n",
    "for i in name_list:\n",
    "  new_dictionary.update({i:name_list.index(i)})\n",
    "    \n",
    "print(new_dictionary)"
   ]
  },
  {
   "cell_type": "raw",
   "id": "eda3c587-116a-4fff-9d4b-41855fad46e8",
   "metadata": {},
   "source": [
    "38. Shuffle the elements of a list randomly."
   ]
  },
  {
   "cell_type": "code",
   "execution_count": 1,
   "id": "889ec5e1-bad1-46af-956b-da1398878c62",
   "metadata": {},
   "outputs": [
    {
     "name": "stdout",
     "output_type": "stream",
     "text": [
      "Original List: [3, 6, 5, 8, 9, 32, 45, 76, 87, 46]\n",
      "Shuffled List: [6, 87, 3, 76, 32, 45, 8, 9, 46, 5]\n"
     ]
    }
   ],
   "source": [
    "import random\n",
    "\n",
    "def shuffle_list_another_way(input_list):\n",
    "    sample_size = min(len(input_list),  len(input_list))\n",
    "    shuffled_list = random.sample(input_list, sample_size)\n",
    "    return shuffled_list\n",
    "\n",
    "# Example usage:\n",
    "original_list = [3, 6, 5, 8, 9, 32, 45, 76, 87, 46]\n",
    "shuffled_result = shuffle_list_another_way(original_list)\n",
    "\n",
    "print(\"Original List:\", original_list)\n",
    "print(\"Shuffled List:\", shuffled_result)\n"
   ]
  },
  {
   "cell_type": "raw",
   "id": "573a663a-7d3f-4c9d-b9df-120753bf7694",
   "metadata": {},
   "source": [
    "39. Create a list of the first 10 factorial numbers."
   ]
  },
  {
   "cell_type": "code",
   "execution_count": 2,
   "id": "0d1ef540-e3ff-4998-8a3c-400e4458952b",
   "metadata": {},
   "outputs": [
    {
     "name": "stdout",
     "output_type": "stream",
     "text": [
      "[1, 2, 3, 4, 5, 6, 7, 8, 9, 10]\n",
      "[1, 2, 6, 24, 120, 720, 5040, 40320, 362880, 3628800]\n"
     ]
    }
   ],
   "source": [
    "number_list = list (range(1,11))\n",
    "new_number_list = []\n",
    "print (number_list)\n",
    "x =1\n",
    "\n",
    "for i in range(1,11):\n",
    "     x =x*i\n",
    "     new_number_list.append(x)\n",
    "print(new_number_list)"
   ]
  },
  {
   "cell_type": "raw",
   "id": "66809474-f0f4-4c2c-a2e1-74303065a7fc",
   "metadata": {},
   "source": [
    "40. Check if two lists have at least one element in common."
   ]
  },
  {
   "cell_type": "code",
   "execution_count": 3,
   "id": "b86e6f90-527e-435f-b652-f63bca0b81bf",
   "metadata": {},
   "outputs": [
    {
     "name": "stdout",
     "output_type": "stream",
     "text": [
      "[65, 76]\n"
     ]
    }
   ],
   "source": [
    "list_1 = [2,4,54,65,76,89,46]\n",
    "list_2 = [5,675,76,43,24,57,53,344,42,65]\n",
    "new_list =[]\n",
    "for i in list_1:\n",
    " for j in list_2:\n",
    "  if i==j:\n",
    "   new_list.append(i)\n",
    "print(new_list)"
   ]
  },
  {
   "cell_type": "raw",
   "id": "89c65573-f2b5-4029-8f7b-ae43a5993462",
   "metadata": {},
   "source": [
    "41. Remove all elements from a list."
   ]
  },
  {
   "cell_type": "code",
   "execution_count": 4,
   "id": "301a7d69-fa97-4a33-99b5-d0942cf69366",
   "metadata": {},
   "outputs": [
    {
     "name": "stdout",
     "output_type": "stream",
     "text": [
      "[]\n"
     ]
    }
   ],
   "source": [
    "my_list = [2, 4, 54, 65, 76, 89, 46]\n",
    "my_list.clear()\n",
    "\n",
    "print(my_list)\n"
   ]
  },
  {
   "cell_type": "raw",
   "id": "60277c0a-8c9c-40ea-a8ad-2778a523c916",
   "metadata": {},
   "source": [
    "42. Replace negative numbers in a list with 0."
   ]
  },
  {
   "cell_type": "code",
   "execution_count": 5,
   "id": "8e53570b-aa81-4394-92db-b42940d1ca61",
   "metadata": {},
   "outputs": [
    {
     "name": "stdout",
     "output_type": "stream",
     "text": [
      "[3, 5, 54, 0, 4, 76, 0, 43, 0]\n"
     ]
    }
   ],
   "source": [
    "number_list = [3,5,54,-65,4,76,-78,43,-54]\n",
    "for i in number_list:\n",
    " if (i<0):\n",
    "  x = number_list.index(i)\n",
    "  number_list[x]=0\n",
    "print(number_list)\n"
   ]
  },
  {
   "cell_type": "raw",
   "id": "5adb970d-2498-4e00-98ad-a18bd7414754",
   "metadata": {},
   "source": [
    "43. Convert a string into a list of words."
   ]
  },
  {
   "cell_type": "code",
   "execution_count": 6,
   "id": "5ccbb60f-a8c4-4061-b34e-bcf7306e8a45",
   "metadata": {},
   "outputs": [
    {
     "name": "stdout",
     "output_type": "stream",
     "text": [
      "['Hey', 'There', 'I', 'am', 'using', 'Python']\n"
     ]
    }
   ],
   "source": [
    "new_string = 'Hey There I am using Python'\n",
    "x = new_string.split()\n",
    "  \n",
    "print(x)"
   ]
  },
  {
   "cell_type": "raw",
   "id": "499ae6c6-6ae2-4e2c-9baf-701ef5da0d32",
   "metadata": {},
   "source": [
    "44. Convert a list of words into a string."
   ]
  },
  {
   "cell_type": "code",
   "execution_count": 7,
   "id": "6be95678-6ef9-4e6e-b8b5-178a69e895af",
   "metadata": {},
   "outputs": [
    {
     "name": "stdout",
     "output_type": "stream",
     "text": [
      "Hey There I am using Python <class 'str'>\n"
     ]
    }
   ],
   "source": [
    "new_list = ['Hey', 'There', 'I', 'am', 'using', 'Python']\n",
    "x = \" \".join(new_list)\n",
    "print(x, type(x))"
   ]
  },
  {
   "cell_type": "raw",
   "id": "42c7bc35-a74b-43d5-a3fa-f1cd8f6197c5",
   "metadata": {},
   "source": [
    "45. Create a list of the first `n` powers of 2."
   ]
  },
  {
   "cell_type": "code",
   "execution_count": 8,
   "id": "5ca66397-88f6-4d6d-a0cc-4fe94558367a",
   "metadata": {},
   "outputs": [
    {
     "name": "stdin",
     "output_type": "stream",
     "text": [
      "Enter how much length of list you want:  20\n"
     ]
    },
    {
     "name": "stdout",
     "output_type": "stream",
     "text": [
      "[1, 2, 4, 8, 16, 32, 64, 128, 256, 512, 1024, 2048, 4096, 8192, 16384, 32768, 65536, 131072, 262144, 524288]\n"
     ]
    }
   ],
   "source": [
    "n = int(input('Enter how much length of list you want: '))\n",
    "new_list =[]\n",
    "for i in range(1,n+1):\n",
    " result = 2**(i-1)\n",
    " new_list.append(result)\n",
    " n+=1\n",
    "print(new_list)"
   ]
  },
  {
   "cell_type": "raw",
   "id": "09f57140-127e-42dd-8422-69637794e7db",
   "metadata": {},
   "source": [
    "46. Find the longest string in a list of strings."
   ]
  },
  {
   "cell_type": "code",
   "execution_count": 10,
   "id": "ee1559fe-a4f4-4d61-a816-92d684a4c33b",
   "metadata": {},
   "outputs": [
    {
     "name": "stdout",
     "output_type": "stream",
     "text": [
      "Python\n"
     ]
    }
   ],
   "source": [
    "new_string =\"Hey there I am using Python\"\n",
    "new_string =\"Hey there I am using Python\"\n",
    "x =new_string.split()\n",
    "longest_string = max(x,key=len)\n",
    "print(longest_string)"
   ]
  },
  {
   "cell_type": "raw",
   "id": "ba667916-510c-42fa-aeeb-d57a1c4b416b",
   "metadata": {},
   "source": [
    "47. Find the shortest string in a list of strings."
   ]
  },
  {
   "cell_type": "code",
   "execution_count": 11,
   "id": "69642d4c-a688-49dc-b560-f2cac7c2410b",
   "metadata": {},
   "outputs": [
    {
     "name": "stdout",
     "output_type": "stream",
     "text": [
      "I\n"
     ]
    }
   ],
   "source": [
    "new_string =\"Hey there I am using Python\"\n",
    "x =new_string.split()\n",
    "longest_string = min(x,key=len)\n",
    "print(longest_string)"
   ]
  },
  {
   "cell_type": "raw",
   "id": "4629c8bc-14c7-4b49-a4f7-2e334fb77e8f",
   "metadata": {},
   "source": [
    "48. Create a list of the first `n` triangular numbers."
   ]
  },
  {
   "cell_type": "code",
   "execution_count": 12,
   "id": "1c72481b-37ed-4e48-9b31-762b00efdcba",
   "metadata": {},
   "outputs": [
    {
     "name": "stdin",
     "output_type": "stream",
     "text": [
      "Enter number:  6\n"
     ]
    },
    {
     "name": "stdout",
     "output_type": "stream",
     "text": [
      "[1, 3, 6, 10, 15, 21]\n"
     ]
    }
   ],
   "source": [
    "n = int(input(\"Enter number: \"))\n",
    "new_list = []\n",
    "i =1\n",
    "while(i<=n):\n",
    " x = (i*(i+1))//2\n",
    " new_list.append(x)\n",
    " i+=1\n",
    "print(new_list)"
   ]
  },
  {
   "cell_type": "raw",
   "id": "1f4b4208-dcaa-4a7a-aa54-dd1490c082e4",
   "metadata": {},
   "source": [
    "49. Check if a list contains another list as a subsequence."
   ]
  },
  {
   "cell_type": "code",
   "execution_count": 2,
   "id": "3cd010c0-a9cc-4060-a200-664c2fa86486",
   "metadata": {},
   "outputs": [
    {
     "name": "stdout",
     "output_type": "stream",
     "text": [
      "Yes list contains another list as a subsequence\n"
     ]
    }
   ],
   "source": [
    "list1 = [1, 2, 3, 4, 5, 6, 7]\n",
    "list2 = [3, 5, 7]\n",
    "new_list1 = []\n",
    "new_list2 = []\n",
    "\n",
    "for i in list1:\n",
    " for j in list2:\n",
    "  if (i ==j):\n",
    "   new_list1.append(list1.index(i))\n",
    "   new_list2.append(list2.index(j))\n",
    "\n",
    "\n",
    "minus_list1 =[]\n",
    "minus_list2 =[]\n",
    "for k in range (0,len(new_list1)-1):\n",
    " x = new_list1[k]-new_list1[k+1]\n",
    " minus_list1.append(x)\n",
    " k+=1\n",
    "\n",
    " if (k+1 ==len(new_list1)):\n",
    "  break\n",
    "\n",
    "for l in range (0,len(new_list2)-1):\n",
    " y = new_list2[l]-new_list2[l+1]\n",
    " minus_list2.append(y)\n",
    " l+=1\n",
    " if (l+1==len(new_list2)):\n",
    "   break\n",
    "\n",
    "result1 = len(set(minus_list1)) == 1\n",
    "result2 = len(set(minus_list2)) == 1\n",
    "\n",
    "\n",
    "if (result1==result2==True):\n",
    " print(\"Yes list contains another list as a subsequence\")\n",
    "else:\n",
    " print(\"No list contains another list as a subsequence\")\n"
   ]
  },
  {
   "cell_type": "raw",
   "id": "316bdf98-f904-4cc7-9219-e4a317947e56",
   "metadata": {},
   "source": [
    "49. Check if a list contains another list as a subsequence."
   ]
  },
  {
   "cell_type": "code",
   "execution_count": null,
   "id": "49d26589-927e-4356-8b36-a13201406e60",
   "metadata": {},
   "outputs": [],
   "source": [
    "original_list = [10, 20, 30, 40, 50, 60, 70, 80, 90]\n",
    "\n",
    "new_list = original_list[3:0:-1]\n",
    "original_list[1:4]=[]\n",
    "original_list[2:2]=new_list\n",
    "print(original_list)"
   ]
  },
  {
   "cell_type": "raw",
   "id": "879032fb-5a33-4063-980f-01a2ae119d76",
   "metadata": {},
   "source": [
    "50. Swap two elements in a list by their indices."
   ]
  },
  {
   "cell_type": "code",
   "execution_count": 3,
   "id": "bc3a4c0b-5d89-4100-9161-fb9552fd6813",
   "metadata": {},
   "outputs": [
    {
     "name": "stdin",
     "output_type": "stream",
     "text": [
      "Enter 1st index no:  1\n",
      "Enter 2nd index no:  5\n"
     ]
    },
    {
     "name": "stdout",
     "output_type": "stream",
     "text": [
      "[10, 60, 30, 40, 50, 20, 70, 80, 90]\n"
     ]
    }
   ],
   "source": [
    "original_list = [10, 20, 30, 40, 50,60,70,80,90]\n",
    "user_input1 = int(input(\"Enter 1st index no: \"))\n",
    "user_input2 = int(input(\"Enter 2nd index no: \"))\n",
    "x = original_list[user_input1]\n",
    "y = original_list[user_input2]\n",
    "\n",
    "x,y =y,x\n",
    "original_list[user_input2]=y\n",
    "original_list[user_input1]=x\n",
    "print(original_list)\n"
   ]
  },
  {
   "cell_type": "code",
   "execution_count": null,
   "id": "c37556b4-a94e-4bd5-9ae3-de3c93104d6b",
   "metadata": {},
   "outputs": [],
   "source": []
  },
  {
   "cell_type": "raw",
   "id": "0284391b-d20a-41ee-a2c6-416d44fcd168",
   "metadata": {},
   "source": [
    "Tuple Based Practice Problem :"
   ]
  },
  {
   "cell_type": "raw",
   "id": "f4c97523-d2f4-496f-a1e9-23fe8d7223b0",
   "metadata": {},
   "source": [
    "1. Create a tuple with integers from 1 to 5."
   ]
  },
  {
   "cell_type": "code",
   "execution_count": 1,
   "id": "74c27df0-f8ab-4315-a4dc-461b1d2d851a",
   "metadata": {},
   "outputs": [
    {
     "name": "stdout",
     "output_type": "stream",
     "text": [
      "(1, 2, 3, 4, 5)\n"
     ]
    }
   ],
   "source": [
    "new_tupple = tuple(range(1,6))\n",
    "print(new_tupple)"
   ]
  },
  {
   "cell_type": "raw",
   "id": "1ea1687b-9f66-4609-b642-bc64499a667a",
   "metadata": {},
   "source": [
    "2. Access the third element of a tuple."
   ]
  },
  {
   "cell_type": "code",
   "execution_count": 2,
   "id": "cd5209ed-9bb9-4d29-accf-0df9571395c1",
   "metadata": {},
   "outputs": [
    {
     "name": "stdout",
     "output_type": "stream",
     "text": [
      "3\n"
     ]
    }
   ],
   "source": [
    "new_tupple = (tuple(range(1,6)))[2]\n",
    "print(new_tupple)"
   ]
  },
  {
   "cell_type": "raw",
   "id": "d9167948-99ff-4db7-8549-9d2e13074a57",
   "metadata": {},
   "source": [
    "3. Find the length of a tuple without using the `len()` function."
   ]
  },
  {
   "cell_type": "code",
   "execution_count": null,
   "id": "588596a9-12ce-4a6e-b4d6-99bed8dbbeb4",
   "metadata": {},
   "outputs": [],
   "source": [
    "new_tupple = tuple(range(1,6))\n",
    "count = 0\n",
    "\n",
    "for i in new_tupple:\n",
    " count +=1\n",
    "print(count)"
   ]
  },
  {
   "cell_type": "raw",
   "id": "df9ff9e5-f120-4935-8d8e-edcf53b9265d",
   "metadata": {},
   "source": [
    "4. Count the occurrences of an element in a tuple."
   ]
  },
  {
   "cell_type": "code",
   "execution_count": 3,
   "id": "dcd0b8bf-3b53-4b0b-af20-50b4fe2277f3",
   "metadata": {},
   "outputs": [
    {
     "name": "stdout",
     "output_type": "stream",
     "text": [
      "The element 1 apperas 4 times\n",
      "The element 2 apperas 4 times\n",
      "The element 3 apperas 3 times\n",
      "The element 4 apperas 2 times\n",
      "The element 5 apperas 2 times\n",
      "The element 6 apperas 1 times\n"
     ]
    }
   ],
   "source": [
    "new_tupple = (1,2,3,1,5,3,1,4,5,2,2,2,3,4,1,6)\n",
    "tupple_set= set(new_tupple)\n",
    "count = 0\n",
    "\n",
    "for i in tupple_set:\n",
    " for j in new_tupple:\n",
    "   if i ==j:\n",
    "    count +=1\n",
    " print(f'The element {i} apperas {count} times')\n",
    " count =0"
   ]
  },
  {
   "cell_type": "raw",
   "id": "7841f169-97d0-4710-aff3-7368dfa0456d",
   "metadata": {},
   "source": [
    "5. Find the index of the first occurrence of an element in a tuple."
   ]
  },
  {
   "cell_type": "code",
   "execution_count": 6,
   "id": "aa6a7ffb-b85a-4c86-9270-e65e0d084951",
   "metadata": {},
   "outputs": [
    {
     "name": "stdout",
     "output_type": "stream",
     "text": [
      "The index of 5 in the tuple is: 4\n"
     ]
    }
   ],
   "source": [
    "\n",
    "new_tupple = (1,2,3,1,5,3,1,4,5,2,2,2,3,4,1,6)\n",
    "element = 5\n",
    "index1 =0\n",
    "for i in new_tupple:\n",
    "    if i==element:\n",
    "      index1 = new_tupple.index(i)\n",
    "      break\n",
    "\n",
    "print(f\"The index of {element} in the tuple is: {index1}\")\n"
   ]
  },
  {
   "cell_type": "raw",
   "id": "5c57a624-173d-42b2-8776-8299381a45c5",
   "metadata": {},
   "source": [
    "6. Check if an element exists in a tuple."
   ]
  },
  {
   "cell_type": "code",
   "execution_count": null,
   "id": "7f780eb5-511d-416e-92af-a4e3c30cfa33",
   "metadata": {},
   "outputs": [],
   "source": [
    "new_tupple = (1,2,3,1,5,3,1,4,5,2,2,2,3,4,1,6)\n",
    "element = 9\n",
    "x =False\n",
    "for i in new_tupple:\n",
    "    if i==element:\n",
    "      x = True\n",
    "      break\n",
    "if x:\n",
    "      print(f\"Yes {element} exist is the tupple\")\n",
    "else:\n",
    "       print(f'No, {element} is not exist in the tupple')"
   ]
  },
  {
   "cell_type": "raw",
   "id": "66c51a9e-d7b3-4bd2-a84c-13e0dfaabfda",
   "metadata": {},
   "source": [
    "7. Convert a tuple to a list."
   ]
  },
  {
   "cell_type": "code",
   "execution_count": null,
   "id": "cf815955-1551-47da-8887-55b6ee59307d",
   "metadata": {},
   "outputs": [],
   "source": [
    "new_tupple = (1,2,3,1,5,3,1,4,5,2,2,2,3,4,1,6)\n",
    "new_list = list(new_tupple)\n",
    "print(new_list)"
   ]
  },
  {
   "cell_type": "raw",
   "id": "e1d3401a-aa54-46bc-95e0-5becbf8ff533",
   "metadata": {},
   "source": [
    "8. Convert a list to a tuple."
   ]
  },
  {
   "cell_type": "code",
   "execution_count": null,
   "id": "91b3c019-2d88-48ee-a954-b2532ae8f583",
   "metadata": {},
   "outputs": [],
   "source": [
    "new_list = [1,2,3,1,5,3,1,4,5,2,2,2,3,4,1,6]\n",
    "new_tuple = tuple(new_list)\n",
    "print(new_tuple)"
   ]
  },
  {
   "cell_type": "raw",
   "id": "91a1d042-8135-4a76-9b33-20c2fa21fd2b",
   "metadata": {},
   "source": [
    "9. Unpack the elements of a tuple into variables."
   ]
  },
  {
   "cell_type": "code",
   "execution_count": 7,
   "id": "c6b1f0ce-a15e-4cb3-823c-2253d7d658b3",
   "metadata": {},
   "outputs": [
    {
     "name": "stdout",
     "output_type": "stream",
     "text": [
      "var1: 10\n",
      "var2: 20\n",
      "var3: 30\n"
     ]
    }
   ],
   "source": [
    "my_tuple = (10, 20, 30)\n",
    "var1, var2, var3 = my_tuple\n",
    "\n",
    "print(\"var1:\", var1)\n",
    "print(\"var2:\", var2)\n",
    "print(\"var3:\", var3)\n"
   ]
  },
  {
   "cell_type": "raw",
   "id": "9822dc0e-3111-44e9-8a83-488e5d6a4f99",
   "metadata": {},
   "source": [
    "10. Create a tuple of even numbers from 1 to 10."
   ]
  },
  {
   "cell_type": "code",
   "execution_count": 8,
   "id": "189e58b8-a6c8-481f-82f9-d2867b5ea2f1",
   "metadata": {},
   "outputs": [
    {
     "name": "stdout",
     "output_type": "stream",
     "text": [
      "(2, 4, 6, 8, 10)\n"
     ]
    }
   ],
   "source": [
    "new_tuple = tuple(range(1,11))\n",
    "updated_tuple =()\n",
    "for i in new_tuple:\n",
    "    if i%2 ==0:\n",
    "        updated_tuple+=(i,)\n",
    "print(updated_tuple)"
   ]
  },
  {
   "cell_type": "raw",
   "id": "89d03ba3-59fd-46de-8112-390ef678ee55",
   "metadata": {},
   "source": [
    "11. Create a tuple of odd numbers from 1 to 10."
   ]
  },
  {
   "cell_type": "code",
   "execution_count": 9,
   "id": "f1aa428c-de58-47ce-8355-6223daa87fcb",
   "metadata": {},
   "outputs": [
    {
     "name": "stdout",
     "output_type": "stream",
     "text": [
      "(1, 3, 5, 7, 9)\n"
     ]
    }
   ],
   "source": [
    "new_tuple = tuple(range(1,11))\n",
    "updated_tuple =()\n",
    "for i in new_tuple:\n",
    "    if i%2 ==1:\n",
    "        updated_tuple+=(i,)\n",
    "print(updated_tuple)"
   ]
  },
  {
   "cell_type": "raw",
   "id": "fb862f2b-5169-49fc-b499-374e9bc63244",
   "metadata": {},
   "source": [
    "12. Concatenate two tuples."
   ]
  },
  {
   "cell_type": "code",
   "execution_count": null,
   "id": "ccfebf34-ea60-45eb-8286-d0c15a6c05ec",
   "metadata": {},
   "outputs": [],
   "source": [
    "new_tuple1 = tuple(range(1,11))\n",
    "new_tuple2 = tuple(range(11,21))\n",
    "new_tuple1+=new_tuple2\n",
    "print(new_tuple1)"
   ]
  },
  {
   "cell_type": "code",
   "execution_count": 10,
   "id": "964a667d-d4f0-470f-a97b-07205d38404a",
   "metadata": {},
   "outputs": [
    {
     "name": "stdout",
     "output_type": "stream",
     "text": [
      "(1, 2, 3, 1, 2, 3, 1, 2, 3)\n"
     ]
    }
   ],
   "source": [
    "original_tuple = (1, 2, 3)\n",
    "\n",
    "repeated_tuple = original_tuple * 3\n",
    "print(repeated_tuple)\n"
   ]
  },
  {
   "cell_type": "raw",
   "id": "d2702811-ee8f-4ecc-a8e4-847cb2b96281",
   "metadata": {},
   "source": [
    "14. Check if a tuple is empty."
   ]
  },
  {
   "cell_type": "code",
   "execution_count": null,
   "id": "ba403798-e238-4635-95dc-5d28ce49221c",
   "metadata": {},
   "outputs": [],
   "source": [
    "new_tuple = ()\n",
    "if len(new_tuple)==0:\n",
    "    print('Its a empty tuple')\n",
    "else:\n",
    "    print('no! its not a empty tuple')"
   ]
  },
  {
   "cell_type": "raw",
   "id": "de714ccb-b277-40c2-8ac4-6a7f16f7acb6",
   "metadata": {},
   "source": [
    "15. Create a nested tuple."
   ]
  },
  {
   "cell_type": "code",
   "execution_count": null,
   "id": "c8c3f7d4-19d6-49cb-84f4-1fb9bd06194e",
   "metadata": {},
   "outputs": [],
   "source": [
    "new_tuple1 = (1,2,3)\n",
    "new_tuple2 = (4,5,6)\n",
    "nested_tuple = (7,8,new_tuple1,new_tuple2)\n",
    "print(nested_tuple)"
   ]
  },
  {
   "cell_type": "raw",
   "id": "d2e80df4-4378-4821-b875-d4e01fca406c",
   "metadata": {},
   "source": [
    "16. Access the first element of a nested tuple."
   ]
  },
  {
   "cell_type": "code",
   "execution_count": 13,
   "id": "964a3499-0c9f-4eca-b5b8-c25de02982bc",
   "metadata": {},
   "outputs": [
    {
     "name": "stdout",
     "output_type": "stream",
     "text": [
      "Tuple is (7, 8, (1, 2, 3), (4, 5, 6))\n",
      "1st index of nested tuple is 7 and nested tuple's inner tuple's 1st index is 1\n"
     ]
    }
   ],
   "source": [
    "new_tuple1 = (1,2,3)\n",
    "new_tuple2 = (4,5,6)\n",
    "nested_tuple = (7,8,new_tuple1,new_tuple2)\n",
    "first_index_of_nested_tuple =nested_tuple[0]\n",
    "nested_tuple_inner_tupple_1st_index =nested_tuple[2][0]\n",
    "print(f\"Tuple is {nested_tuple}\")\n",
    "print(f\"1st index of nested tuple is {first_index_of_nested_tuple} and nested tuple's inner tuple's 1st index is {nested_tuple_inner_tupple_1st_index}\")"
   ]
  },
  {
   "cell_type": "raw",
   "id": "5775e7bd-3879-4753-a27e-827d075eb85d",
   "metadata": {},
   "source": [
    "17. Create a tuple with a single element."
   ]
  },
  {
   "cell_type": "code",
   "execution_count": 1,
   "id": "0b5c542b-6b08-4d00-a887-36857c27744b",
   "metadata": {},
   "outputs": [
    {
     "name": "stdout",
     "output_type": "stream",
     "text": [
      "(3,)\n"
     ]
    }
   ],
   "source": [
    "new_tupple =tuple((3,))\n",
    "print(new_tupple)"
   ]
  },
  {
   "cell_type": "raw",
   "id": "758f915b-2fa8-4cc2-96d3-273388fba1c8",
   "metadata": {},
   "source": [
    "18. Compare two tuples."
   ]
  },
  {
   "cell_type": "code",
   "execution_count": 2,
   "id": "e1502e41-92e5-446b-917b-80ca939fb5d5",
   "metadata": {},
   "outputs": [
    {
     "name": "stdout",
     "output_type": "stream",
     "text": [
      "Tuples are equal.\n"
     ]
    }
   ],
   "source": [
    "tuple1 = (1, 2, 3)\n",
    "tuple2 = (1, 2, 3)\n",
    "\n",
    "if tuple1 == tuple2:\n",
    "    print(\"Tuples are equal.\")\n",
    "else:\n",
    "    print(\"Tuples are not equal.\")\n"
   ]
  },
  {
   "cell_type": "raw",
   "id": "7192b70e-ed7b-4f7c-b6f1-ca7281f87bc2",
   "metadata": {},
   "source": [
    "19. Delete a tuple."
   ]
  },
  {
   "cell_type": "code",
   "execution_count": 3,
   "id": "98c87e44-38dd-472b-a092-dd1fafb0b265",
   "metadata": {},
   "outputs": [
    {
     "name": "stdout",
     "output_type": "stream",
     "text": [
      "Original Tuple: (1, 2, 3, 4, 5)\n"
     ]
    },
    {
     "ename": "NameError",
     "evalue": "name 'my_tuple' is not defined",
     "output_type": "error",
     "traceback": [
      "\u001b[0;31m---------------------------------------------------------------------------\u001b[0m",
      "\u001b[0;31mNameError\u001b[0m                                 Traceback (most recent call last)",
      "Cell \u001b[0;32mIn[3], line 6\u001b[0m\n\u001b[1;32m      4\u001b[0m \u001b[38;5;28mprint\u001b[39m(\u001b[38;5;124m\"\u001b[39m\u001b[38;5;124mOriginal Tuple:\u001b[39m\u001b[38;5;124m\"\u001b[39m, my_tuple)\n\u001b[1;32m      5\u001b[0m \u001b[38;5;28;01mdel\u001b[39;00m my_tuple\n\u001b[0;32m----> 6\u001b[0m \u001b[38;5;28mprint\u001b[39m(\u001b[43mmy_tuple\u001b[49m)\n",
      "\u001b[0;31mNameError\u001b[0m: name 'my_tuple' is not defined"
     ]
    }
   ],
   "source": [
    "my_tuple = (1, 2, 3, 4, 5)\n",
    "\n",
    "\n",
    "print(\"Original Tuple:\", my_tuple)\n",
    "del my_tuple\n",
    "print(my_tuple)\n"
   ]
  },
  {
   "cell_type": "raw",
   "id": "3f0ece4b-cc3a-4ff9-89a9-c7ab6448494c",
   "metadata": {},
   "source": [
    "20. Slice a tuple."
   ]
  },
  {
   "cell_type": "code",
   "execution_count": 4,
   "id": "b919c013-6acb-4dc1-b2cc-9a2936efb8d3",
   "metadata": {},
   "outputs": [
    {
     "name": "stdout",
     "output_type": "stream",
     "text": [
      "(2, 3, 4)\n"
     ]
    }
   ],
   "source": [
    "my_tupple = (1,2,3,4,5,6)\n",
    "new_tupple = my_tupple[1:4]\n",
    "print(new_tupple)"
   ]
  },
  {
   "cell_type": "raw",
   "id": "c174156e-adbf-46d2-83ea-c60d10bfd31f",
   "metadata": {},
   "source": [
    "21. Find the maximum value in a tuple."
   ]
  },
  {
   "cell_type": "code",
   "execution_count": null,
   "id": "e3fb936a-0ce2-42b4-833c-8ba1b0c68c97",
   "metadata": {},
   "outputs": [],
   "source": [
    "my_tupple = (2,5,4,867,9,67,65,567,5757,4747,747,474,65,3,5)\n",
    "max_tuple = max(my_tupple)\n",
    "print (max_tuple)"
   ]
  },
  {
   "cell_type": "raw",
   "id": "43890643-f530-43cb-8ca9-6da65278dd28",
   "metadata": {},
   "source": [
    "22. Find the minimum value in a tuple."
   ]
  },
  {
   "cell_type": "code",
   "execution_count": 5,
   "id": "04d67a94-3984-42da-8672-fd466cafeb67",
   "metadata": {},
   "outputs": [
    {
     "name": "stdout",
     "output_type": "stream",
     "text": [
      "2\n"
     ]
    }
   ],
   "source": [
    "my_tupple = (2,5,4,867,9,67,65,567,5757,4747,747,474,65,3,5)\n",
    "min_tuple = min(my_tupple)\n",
    "print (min_tuple)"
   ]
  },
  {
   "cell_type": "raw",
   "id": "edbb0dda-5105-4026-abc5-40443f73f2e0",
   "metadata": {},
   "source": [
    "23. Convert a string to a tuple of characters."
   ]
  },
  {
   "cell_type": "code",
   "execution_count": 6,
   "id": "c0cabe57-793c-4a5c-a7b2-aee13b615729",
   "metadata": {},
   "outputs": [
    {
     "name": "stdout",
     "output_type": "stream",
     "text": [
      "('H', 'e', 'y', ' ', 't', 'h', 'e', 'r', 'e', ' ', 'I', ' ', 'a', 'm', ' ', 'u', 's', 'i', 'n', 'g', ' ', 'P', 'y', 't', 'h', 'o', 'n')\n"
     ]
    }
   ],
   "source": [
    "my_string= \"Hey there I am using Python\"\n",
    "new_string =tuple(my_string)\n",
    "print(new_string)"
   ]
  },
  {
   "cell_type": "raw",
   "id": "96d5a8f8-fc41-4766-a9f2-fe92b79ba25e",
   "metadata": {},
   "source": [
    "24. Convert a tuple of characters to a string."
   ]
  },
  {
   "cell_type": "code",
   "execution_count": 7,
   "id": "bef0968c-d08f-4477-8507-97f3eabfe093",
   "metadata": {},
   "outputs": [
    {
     "name": "stdout",
     "output_type": "stream",
     "text": [
      "Hey there I am using Python\n"
     ]
    }
   ],
   "source": [
    "my_tuple =('H', 'e', 'y', ' ', 't', 'h', 'e', 'r', 'e', ' ', 'I', ' ', 'a', 'm', ' ', 'u', 's', 'i', 'n', 'g', ' ', 'P', 'y', 't', 'h', 'o', 'n')\n",
    "my_string = \"\".join(my_tuple)\n",
    "print(my_string)"
   ]
  },
  {
   "cell_type": "raw",
   "id": "cfd422e7-3fdd-42bc-8381-da60ebb449a9",
   "metadata": {},
   "source": [
    "25. Create a tuple from multiple data types."
   ]
  },
  {
   "cell_type": "code",
   "execution_count": 8,
   "id": "78565cf5-2128-43f0-867a-73a412551a09",
   "metadata": {},
   "outputs": [
    {
     "name": "stdout",
     "output_type": "stream",
     "text": [
      "The element 1 is a <class 'int'>\n",
      "The element Hello is a <class 'str'>\n",
      "The element 3.14 is a <class 'float'>\n",
      "The element True is a <class 'bool'>\n",
      "The element [5, 6, 7] is a <class 'list'>\n"
     ]
    }
   ],
   "source": [
    "mixed_tuple = (1, \"Hello\", 3.14, True, [5, 6, 7])\n",
    "\n",
    "for i in mixed_tuple:\n",
    " x = type(i)\n",
    " print(f'The element {i} is a {x}')"
   ]
  },
  {
   "cell_type": "raw",
   "id": "6930298b-9d78-4263-b855-b97a12aedf69",
   "metadata": {},
   "source": [
    "26. Check if two tuples are identical."
   ]
  },
  {
   "cell_type": "code",
   "execution_count": null,
   "id": "0383ec56-278a-4779-a1df-5d84243dc0f6",
   "metadata": {},
   "outputs": [],
   "source": [
    "tupple1= (1,2,3,4,5,)\n",
    "tupple2= (1,2,3,4,5)\n",
    "if tupple1==tupple2:\n",
    " print('tupples are identical')\n",
    "else:\n",
    " print('tupples are not identical')\n"
   ]
  },
  {
   "cell_type": "raw",
   "id": "0bbb1fd1-f311-44f1-bcfe-0960b71438cd",
   "metadata": {},
   "source": [
    "27. Sort the elements of a tuple."
   ]
  },
  {
   "cell_type": "code",
   "execution_count": null,
   "id": "7a376b47-62c6-4a3c-884d-48226662447d",
   "metadata": {},
   "outputs": [],
   "source": [
    "my_tuple = (2,4,5,3,7,9,3,6)\n",
    "sort_tuple = tuple(sorted(my_tuple))\n",
    "print(sort_tuple)"
   ]
  },
  {
   "cell_type": "raw",
   "id": "3fb2aba4-e0cb-4e0e-a738-7200f981b4f8",
   "metadata": {},
   "source": [
    "28. Convert a tuple of integers to a tuple of strings."
   ]
  },
  {
   "cell_type": "code",
   "execution_count": 9,
   "id": "0bb21b7a-4e2b-4f5a-87d8-b673e0a55b59",
   "metadata": {},
   "outputs": [
    {
     "name": "stdout",
     "output_type": "stream",
     "text": [
      "(1, 2, 3, 4, 5) <class 'str'>\n"
     ]
    }
   ],
   "source": [
    "tuple1 = (1,2,3,4,5)\n",
    "str_tuple = str(tuple1)\n",
    "print(str_tuple,type(str_tuple))"
   ]
  },
  {
   "cell_type": "raw",
   "id": "9aa58e21-b9f6-4bd9-8c26-b4fbf1ca458b",
   "metadata": {},
   "source": [
    "29. Convert a tuple of strings to a tuple of integers."
   ]
  },
  {
   "cell_type": "code",
   "execution_count": 10,
   "id": "62729d2c-23d2-48d1-a4c9-a93e269ef7f6",
   "metadata": {},
   "outputs": [
    {
     "name": "stdout",
     "output_type": "stream",
     "text": [
      "(1, 2, 3, 4, 5)\n"
     ]
    }
   ],
   "source": [
    "Strings= ('1', '2', '3', '4', '5')\n",
    "list1 = []\n",
    "for i in Strings:\n",
    " x = int(i)\n",
    " list1.append(x)\n",
    "\n",
    "tuple1=tuple(list1)\n",
    "print(tuple1)\n"
   ]
  },
  {
   "cell_type": "raw",
   "id": "0fdd342a-d140-4e01-ab1f-33a49f398a43",
   "metadata": {},
   "source": [
    "30. Merge two tuples."
   ]
  },
  {
   "cell_type": "code",
   "execution_count": 11,
   "id": "77a9914c-0a6a-462b-a0ff-c9125a6aa70b",
   "metadata": {},
   "outputs": [
    {
     "name": "stdout",
     "output_type": "stream",
     "text": [
      "Merged Tuple: (1, 2, 3, 'a', 'b', 'c')\n"
     ]
    }
   ],
   "source": [
    "tuple1 = (1, 2, 3)\n",
    "tuple2 = ('a', 'b', 'c')\n",
    "\n",
    "merged_tuple = tuple1 + tuple2\n",
    "print(\"Merged Tuple:\", merged_tuple)\n"
   ]
  },
  {
   "cell_type": "raw",
   "id": "091c8bc2-8dd5-4441-8373-b240be8cb721",
   "metadata": {},
   "source": [
    "31. Flatten a nested tuple."
   ]
  },
  {
   "cell_type": "code",
   "execution_count": 15,
   "id": "6b868d19-fa3e-459d-8741-f823a8f07483",
   "metadata": {},
   "outputs": [
    {
     "name": "stdout",
     "output_type": "stream",
     "text": [
      "(1, 2, 3, 4, 7, 8, 9, 6, 5, 1, 2, 3, 9, 10, 5, 6)\n"
     ]
    }
   ],
   "source": [
    "nested_tuple = ((1, 2), (3, 4), ((7, 8, 9), 6, (5,(1,2,3), 9, 10)), (5, 6))\n",
    "flattened = []\n",
    "\n",
    "def flatten_tuple(t):\n",
    "    for item in t:\n",
    "        if isinstance(item, tuple):\n",
    "            flatten_tuple(item)\n",
    "        else:\n",
    "            flattened.append(item)\n",
    "\n",
    "flatten_tuple(nested_tuple)\n",
    "flat_tuple = tuple(flattened)\n",
    "print(flat_tuple)\n"
   ]
  },
  {
   "cell_type": "raw",
   "id": "2ec1296c-ccab-4d13-8755-0f8d1a97f5dc",
   "metadata": {},
   "source": [
    "32. Create a tuple of the first 5 prime numbers."
   ]
  },
  {
   "cell_type": "code",
   "execution_count": 16,
   "id": "b779b4c8-938e-4b42-8b4e-c869f9c1a748",
   "metadata": {},
   "outputs": [
    {
     "name": "stdout",
     "output_type": "stream",
     "text": [
      "(2, 3, 5, 7, 11)\n"
     ]
    }
   ],
   "source": [
    "prime_list = []\n",
    "number = 2\n",
    "while len(prime_list)<5:\n",
    "  is_prime = True\n",
    "  for i in range(2,number):\n",
    "    if number%i==0:\n",
    "     is_prime=False\n",
    "     break\n",
    "  if is_prime:\n",
    "      prime_list.append(number)\n",
    "  number+=1\n",
    "print(tuple(prime_list))\n",
    "  "
   ]
  },
  {
   "cell_type": "raw",
   "id": "4b0d2bfa-63f5-4544-a913-28c42ea1fd65",
   "metadata": {},
   "source": [
    "33. Check if a tuple is a palindrome."
   ]
  },
  {
   "cell_type": "code",
   "execution_count": null,
   "id": "521e6c70-3caa-4659-8112-e6969be406d8",
   "metadata": {},
   "outputs": [],
   "source": [
    "my_tuple = (1,2,3,4,3,2,1)\n",
    "reverse_tuple = my_tuple[::-1]\n",
    "if my_tuple ==reverse_tuple:\n",
    " print(\"Yes this is a palindrome\")\n",
    "else:\n",
    " print(\"No! This is not a palindrome\")"
   ]
  },
  {
   "cell_type": "raw",
   "id": "158d93a3-d506-43a2-b4d9-d441ba3cfafc",
   "metadata": {},
   "source": [
    "34. Create a tuple of squares of numbers from 1 to 5."
   ]
  },
  {
   "cell_type": "code",
   "execution_count": null,
   "id": "1b8a3f87-0b6c-4f5a-8b80-b729dc87c248",
   "metadata": {},
   "outputs": [],
   "source": [
    "my_tuple = tuple(range(1,6))\n",
    "new_list = []\n",
    "for i in my_tuple:\n",
    " new_list.append(i**2)\n",
    "print(tuple(new_list))"
   ]
  },
  {
   "cell_type": "raw",
   "id": "4b3d7272-b7b7-49a0-bca5-19cd8e75c7c9",
   "metadata": {},
   "source": [
    "35. Filter out all even numbers from a tuple."
   ]
  },
  {
   "cell_type": "code",
   "execution_count": null,
   "id": "e2597f6f-3b6e-4e1c-8d91-18b17c279927",
   "metadata": {},
   "outputs": [],
   "source": [
    "def filter_number(numbers):\n",
    "  return  numbers%2 ==0 \n",
    "\n",
    "new_tuple = (1,5,4,36,7,5,4,6,4,3,6,7,84,3,3,6,67,4,56,6)\n",
    "number_list = tuple(filter(filter_number,new_tuple))\n",
    "print(number_list)"
   ]
  },
  {
   "cell_type": "raw",
   "id": "f5b4c124-faf7-4fbc-8c77-885a20d8a7e7",
   "metadata": {},
   "source": [
    "36. Multiply all elements in a tuple by 2."
   ]
  },
  {
   "cell_type": "code",
   "execution_count": 17,
   "id": "facf11ba-a3c9-4742-b6c2-7ea2e203521d",
   "metadata": {},
   "outputs": [
    {
     "name": "stdout",
     "output_type": "stream",
     "text": [
      "(2, 4, 6, 8, 10, 12, 14, 16, 18, 20)\n"
     ]
    }
   ],
   "source": [
    "my_tuple = tuple(range(1, 11))\n",
    "\n",
    "def x_tuple(e):\n",
    "    result_list = []\n",
    "    for i in my_tuple:\n",
    "        result_list.append(i * 2)\n",
    "    return tuple(result_list)\n",
    "\n",
    "new_tuple = x_tuple(my_tuple)\n",
    "print(new_tuple)\n"
   ]
  },
  {
   "cell_type": "raw",
   "id": "4d523cca-1b14-4efb-9380-196478915858",
   "metadata": {},
   "source": [
    "37. Create a tuple of random numbers."
   ]
  },
  {
   "cell_type": "code",
   "execution_count": 40,
   "id": "5fd2253c-74f9-46ba-9578-e0e5c3bd843e",
   "metadata": {},
   "outputs": [
    {
     "name": "stdout",
     "output_type": "stream",
     "text": [
      "(73, 49, 30, 53, 29, 26, 65, 54, 55, 10, 42)\n"
     ]
    }
   ],
   "source": [
    "import random\n",
    "new_list =[]\n",
    "while len(new_list)<=10:\n",
    "    random_number =random.randint(1,101)\n",
    "    new_list.append(random_number)\n",
    "print(tuple(new_list))\n"
   ]
  },
  {
   "cell_type": "raw",
   "id": "e294802b-6b40-41ea-8457-69b77c76cd76",
   "metadata": {},
   "source": [
    "38. Check if a tuple is sorted."
   ]
  },
  {
   "cell_type": "code",
   "execution_count": null,
   "id": "fef4a6dc-c459-4978-836a-3a103ee3f5ab",
   "metadata": {},
   "outputs": [],
   "source": [
    "my_tuple = (3, 1, 4, 1, 5, 9, 2, 6, 5, 3, 5)\n",
    "\n",
    "if my_tuple ==sorted(my_tuple) or my_tuple == sorted(my_tuple,reverse=True):\n",
    " print('Yes! Tuple is sorted')\n",
    "else:\n",
    " print('No! Tuple is not sorted')"
   ]
  },
  {
   "cell_type": "raw",
   "id": "b17794c5-6b11-45bd-8d9b-05ff34606e97",
   "metadata": {},
   "source": [
    "39. Rotate a tuple to the left by `n` positions."
   ]
  },
  {
   "cell_type": "code",
   "execution_count": 41,
   "id": "667463f7-cc72-40b3-b2ed-0f94dde2a7c7",
   "metadata": {},
   "outputs": [
    {
     "name": "stdout",
     "output_type": "stream",
     "text": [
      "New tuple is (4, 5, 6, 7, 8, 9, 1, 2, 3)\n"
     ]
    }
   ],
   "source": [
    "my_tuple = (1,2,3,4,5,6,7,8,9)\n",
    "n = 3\n",
    "result = my_tuple[n:]+my_tuple[:n]\n",
    "print(f'New tuple is {result}')"
   ]
  },
  {
   "cell_type": "raw",
   "id": "d93203ca-5e51-496d-8d12-06a0a96cf334",
   "metadata": {},
   "source": [
    "40. Rotate a tuple to the right by `n` positions."
   ]
  },
  {
   "cell_type": "code",
   "execution_count": 42,
   "id": "57c75c13-de14-4e3d-853d-23fa3bc6f898",
   "metadata": {},
   "outputs": [
    {
     "name": "stdout",
     "output_type": "stream",
     "text": [
      "(7, 8, 9, 1, 2, 3, 4, 5, 6)\n"
     ]
    }
   ],
   "source": [
    "my_tuple = (1,2,3,4,5,6,7,8,9)\n",
    "n = 3\n",
    "result = my_tuple[-n:]+my_tuple[:-n]\n",
    "print(result)\n"
   ]
  },
  {
   "cell_type": "raw",
   "id": "cde037b1-25c7-45cf-b6c8-6d8c66ee10a7",
   "metadata": {},
   "source": [
    "41. Create a tuple of the first 5 Fibonacci numbers."
   ]
  },
  {
   "cell_type": "code",
   "execution_count": null,
   "id": "87972f4f-319c-4f56-9d55-8ff7e2fbedcf",
   "metadata": {},
   "outputs": [],
   "source": [
    "fibonacci_list = []\n",
    "previous_number = 0\n",
    "current_number = 1\n",
    "\n",
    "while len(fibonacci_list) < 5:\n",
    "    fibonacci_list.append(current_number)\n",
    "    previous_number, current_number = current_number, previous_number + current_number\n",
    "\n",
    "print(fibonacci_list)\n"
   ]
  },
  {
   "cell_type": "raw",
   "id": "b52ef289-49b7-4400-8422-93c1fe187a84",
   "metadata": {},
   "source": [
    "42. Create a tuple from user input."
   ]
  },
  {
   "cell_type": "code",
   "execution_count": 44,
   "id": "54a5962d-5a73-465f-9284-45155be5c05e",
   "metadata": {},
   "outputs": [
    {
     "name": "stdin",
     "output_type": "stream",
     "text": [
      "Enter input seperated by comma(,):  555555445,64,64,6,h,n,65,657,,bf,,457,,fgh,f,h\n"
     ]
    },
    {
     "name": "stdout",
     "output_type": "stream",
     "text": [
      "('555555445', '64', '64', '6', 'h', 'n', '65', '657', '', 'bf', '', '457', '', 'fgh', 'f', 'h') <class 'tuple'>\n"
     ]
    }
   ],
   "source": [
    "user_input = input(\"Enter input seperated by comma(,): \")\n",
    "input_tuple = tuple(user_input.split(','))\n",
    "print((input_tuple),type(input_tuple))"
   ]
  },
  {
   "cell_type": "raw",
   "id": "085d84a8-ada2-4f34-947e-cd6f67cfb9ad",
   "metadata": {},
   "source": [
    "43. Swap two elements in a tuple."
   ]
  },
  {
   "cell_type": "code",
   "execution_count": 45,
   "id": "95582f40-0d0b-4393-adde-58cae8c7542b",
   "metadata": {},
   "outputs": [
    {
     "name": "stdout",
     "output_type": "stream",
     "text": [
      "(2, 34, 5, 67, 'java', 54, 4, 32, 'Python', True, 34.5)\n"
     ]
    }
   ],
   "source": [
    "my_tuple = (2,34,5,67,'Python',54,4,32,'java',True,34.5)\n",
    "my_list = list(my_tuple)\n",
    "index1 = 4\n",
    "index2 =8\n",
    "my_list[index1],my_list[index2]=my_list[index2],my_list[index1]\n",
    "print(tuple(my_list))"
   ]
  },
  {
   "cell_type": "raw",
   "id": "7113855b-418f-4c63-96f5-25dbbe0b6af2",
   "metadata": {},
   "source": [
    "44. Reverse the elements of a tuple."
   ]
  },
  {
   "cell_type": "code",
   "execution_count": 46,
   "id": "410f70bc-c683-421c-beb3-7daca6ca99d4",
   "metadata": {},
   "outputs": [
    {
     "name": "stdout",
     "output_type": "stream",
     "text": [
      "(34.5, True, 'java', 32, 4, 54, 'Python', 67, 5, 34, 2)\n"
     ]
    }
   ],
   "source": [
    "my_tuple = (2,34,5,67,'Python',54,4,32,'java',True,34.5)\n",
    "my_list = list(my_tuple)[::-1]\n",
    "print(tuple(my_list))\n"
   ]
  },
  {
   "cell_type": "raw",
   "id": "716e5929-40f4-45df-9ca1-f5689425c58f",
   "metadata": {},
   "source": [
    "45. Create a tuple of the first `n` powers of 2."
   ]
  },
  {
   "cell_type": "code",
   "execution_count": 52,
   "id": "21f3ca89-64a2-41f9-b82f-842367f9330d",
   "metadata": {},
   "outputs": [
    {
     "name": "stdin",
     "output_type": "stream",
     "text": [
      "Enter power Number:  3\n"
     ]
    },
    {
     "name": "stdout",
     "output_type": "stream",
     "text": [
      "[1, 2, 4, 8]\n"
     ]
    }
   ],
   "source": [
    "new_list = []\n",
    "user_input = int(input(\"Enter power Number: \"))\n",
    "number = 0\n",
    "while len(new_list)<=user_input:\n",
    " new_list.append(2**number)\n",
    " number+=1\n",
    "print(new_list)"
   ]
  },
  {
   "cell_type": "raw",
   "id": "d3f00264-e123-42e1-9ef1-5d7808016b9b",
   "metadata": {},
   "source": [
    "46. Find the longest string in a tuple of strings."
   ]
  },
  {
   "cell_type": "code",
   "execution_count": 10,
   "id": "99d50796-14d2-42a1-9f93-3c0ca2a4e04f",
   "metadata": {},
   "outputs": [
    {
     "name": "stdout",
     "output_type": "stream",
     "text": [
      "Python\n"
     ]
    }
   ],
   "source": [
    "new_tupple = (\"Hey\", \"There\",\"I\", \"am\",\"using\",\"Python\")\n",
    "\n",
    "def my_function(e):\n",
    " result_list =max(new_tupple,key =len)\n",
    " return result_list\n",
    "\n",
    "result =my_function(new_tupple)\n",
    "print(result)"
   ]
  },
  {
   "cell_type": "raw",
   "id": "a5f82c35-affa-46e0-9769-04267df6bb54",
   "metadata": {},
   "source": [
    "47. Find the shortest string in a tuple of strings."
   ]
  },
  {
   "cell_type": "code",
   "execution_count": 1,
   "id": "ba6aa50d-f2b4-43df-b8f9-393ec0292178",
   "metadata": {},
   "outputs": [
    {
     "name": "stdout",
     "output_type": "stream",
     "text": [
      "I\n"
     ]
    }
   ],
   "source": [
    "new_tupple = (\"Hey\", \"There\",\"I\", \"am\",\"using\",\"Python\")\n",
    "\n",
    "def my_function(e):\n",
    " result_list =min(new_tupple,key =len)\n",
    " return result_list\n",
    "\n",
    "result =my_function(new_tupple)\n",
    "print(result)"
   ]
  },
  {
   "cell_type": "raw",
   "id": "a72fa2bc-dde2-41b1-8da2-6a1340bed020",
   "metadata": {},
   "source": [
    "48. Create a tuple of the first `n` triangular numbers."
   ]
  },
  {
   "cell_type": "code",
   "execution_count": 2,
   "id": "05a2109c-5732-4418-9252-a6b55cdeb9eb",
   "metadata": {},
   "outputs": [
    {
     "name": "stdin",
     "output_type": "stream",
     "text": [
      "Enter the number:  5\n"
     ]
    },
    {
     "name": "stdout",
     "output_type": "stream",
     "text": [
      "(1, 3, 6, 10, 15)\n"
     ]
    }
   ],
   "source": [
    "emptyList =[]\n",
    "userInput =int(input(\"Enter the number: \"))\n",
    "n = 1\n",
    "\n",
    "while n <= userInput:\n",
    "    sum = (n*(n+1))//2\n",
    "    emptyList.append(sum)\n",
    "    n+=1\n",
    "  \n",
    "print(tuple(emptyList))"
   ]
  },
  {
   "cell_type": "raw",
   "id": "dec10cf5-0a4c-4bf6-ae12-1de289b2a67f",
   "metadata": {},
   "source": [
    "49. Check if a tuple contains another tuple as a subsequence."
   ]
  },
  {
   "cell_type": "code",
   "execution_count": 3,
   "id": "1699f713-3051-4ed5-b117-71a497c1d002",
   "metadata": {},
   "outputs": [
    {
     "name": "stdout",
     "output_type": "stream",
     "text": [
      "Yes the tuple contains another tuple as a subsequence and the tuple is ('love', 'python')\n"
     ]
    }
   ],
   "source": [
    "my_tuple = (1,4,'I', 56,True, ('love','python'),34.5,28)\n",
    "isTuple = False\n",
    "\n",
    "for i in my_tuple:\n",
    "    if isinstance(i,tuple):\n",
    "        isTuple=True\n",
    "        x =i\n",
    "        break\n",
    "    \n",
    "if isTuple:\n",
    "    print(f\"Yes the tuple contains another tuple as a subsequence and the tuple is {x}\")\n",
    "else:\n",
    "    print(\"This tuple does not contains another tuple.\")\n"
   ]
  },
  {
   "cell_type": "raw",
   "id": "0539886b-c43b-4b23-81f5-412335356396",
   "metadata": {},
   "source": [
    "50. Create a tuple of alternating 1s and 0s of length `n`."
   ]
  },
  {
   "cell_type": "code",
   "execution_count": 2,
   "id": "94b5dd3d-3dc2-4b3c-8bb4-21fd85029327",
   "metadata": {},
   "outputs": [
    {
     "name": "stdin",
     "output_type": "stream",
     "text": [
      "Enter the Number:  0\n"
     ]
    },
    {
     "name": "stdout",
     "output_type": "stream",
     "text": [
      "()\n"
     ]
    }
   ],
   "source": [
    "result_list =[1]\n",
    "user_input = int(input(\"Enter the Number: \"))\n",
    "count =0\n",
    "if user_input==0:\n",
    " result_list=[]\n",
    "else:\n",
    " while (len(result_list)<user_input):\n",
    "  if result_list[-1] ==0:\n",
    "   result_list.append(1)\n",
    "  else:\n",
    "   result_list.append(0)\n",
    "  count+=1\n",
    "print(tuple(result_list))"
   ]
  },
  {
   "cell_type": "raw",
   "id": "4ab4d80d-5906-475e-8ff5-9217ba978794",
   "metadata": {},
   "source": [
    "Set Based Practice Problem :"
   ]
  },
  {
   "cell_type": "raw",
   "id": "05ef2d4a-f5ee-41c5-b275-de4b026d3f3b",
   "metadata": {},
   "source": [
    "1. Create a set with integers from 1 to 5."
   ]
  },
  {
   "cell_type": "code",
   "execution_count": 3,
   "id": "295d0b1e-2958-4aab-a731-3ea1178a93ac",
   "metadata": {},
   "outputs": [
    {
     "name": "stdout",
     "output_type": "stream",
     "text": [
      "{1, 2, 3, 4, 5}\n"
     ]
    }
   ],
   "source": [
    "my_set = set()\n",
    "for i in range(1,6):\n",
    " my_set.update([i])\n",
    "print(my_set)"
   ]
  },
  {
   "cell_type": "raw",
   "id": "b9497c27-5b26-46bb-950b-d88f8b088aae",
   "metadata": {},
   "source": [
    "2. Add an element to a set."
   ]
  },
  {
   "cell_type": "code",
   "execution_count": 15,
   "id": "bc3bdbf4-831a-4ad1-863a-54f90c45a5b7",
   "metadata": {},
   "outputs": [
    {
     "name": "stdout",
     "output_type": "stream",
     "text": [
      "{65, 'Python', 2, 3, 1, 'Dipanjan', 45}\n"
     ]
    }
   ],
   "source": [
    "my_set = {1,2,3,'Python',45,65}\n",
    "\n",
    "my_set.update(['Dipanjan'])\n",
    "print(my_set)"
   ]
  },
  {
   "cell_type": "raw",
   "id": "9c67df5e-5558-4af6-bb2d-70eeccd40437",
   "metadata": {},
   "source": [
    "3. Remove an element from a set."
   ]
  },
  {
   "cell_type": "code",
   "execution_count": 16,
   "id": "e9649814-af9c-43f0-928e-ffa7d69da39c",
   "metadata": {},
   "outputs": [
    {
     "name": "stdout",
     "output_type": "stream",
     "text": [
      "{65, 2, 3, 'Python', 1, 45}\n"
     ]
    }
   ],
   "source": [
    "my_set ={65, 'Python', 2, 3, 1, 'Dipanjan', 45}\n",
    "my_set.remove('Dipanjan')\n",
    "print(my_set)"
   ]
  },
  {
   "cell_type": "raw",
   "id": "4d564bd1-543e-4ba2-963f-eec263edffb4",
   "metadata": {},
   "source": [
    "4. Check if an element exists in a set."
   ]
  },
  {
   "cell_type": "code",
   "execution_count": 17,
   "id": "b1e057db-4470-407f-9af4-0033d2cf6c62",
   "metadata": {},
   "outputs": [
    {
     "name": "stdout",
     "output_type": "stream",
     "text": [
      "Yes! The element exists\n"
     ]
    }
   ],
   "source": [
    "my_set ={65, 'Python', 2, 3, 1, 'Dipanjan', 45}\n",
    "x = False\n",
    "for i in my_set:\n",
    " if i==\"Dipanjan\":\n",
    "  x = True\n",
    "\n",
    "if x:\n",
    "  print(\"Yes! The element exists\")\n",
    "else:\n",
    "  print(\"No! the element does not exists\")"
   ]
  },
  {
   "cell_type": "raw",
   "id": "a7844e7f-4f79-46be-9a7e-ad4b65b7cf87",
   "metadata": {},
   "source": [
    "5. Find the length of a set without using the `len()` function."
   ]
  },
  {
   "cell_type": "code",
   "execution_count": 18,
   "id": "051111e9-f7f8-47ef-948f-4ba47a770f92",
   "metadata": {},
   "outputs": [
    {
     "name": "stdout",
     "output_type": "stream",
     "text": [
      "The length of the set is 8\n"
     ]
    }
   ],
   "source": [
    "my_set ={65, 'Python', 2, 3, 1, 'Dipanjan', 45,6}\n",
    "count =0\n",
    "for i in my_set:\n",
    " pass\n",
    " count+=1\n",
    "print(f\"The length of the set is {count}\")"
   ]
  },
  {
   "cell_type": "raw",
   "id": "e77b948f-84ee-4224-a69a-de43736daae9",
   "metadata": {},
   "source": [
    "6. Clear all elements from a set."
   ]
  },
  {
   "cell_type": "code",
   "execution_count": null,
   "id": "5484430c-ed53-4673-8d08-b1eb289db614",
   "metadata": {},
   "outputs": [],
   "source": [
    "my_set ={65, 'Python', 2, 3, 1, 'Dipanjan', 45,6}\n",
    "my_set.clear()\n",
    "print(my_set)"
   ]
  },
  {
   "cell_type": "raw",
   "id": "3e659cd6-e73e-442f-8d6c-8c8337edcda3",
   "metadata": {},
   "source": [
    "7. Create a set of even numbers from 1 to 10."
   ]
  },
  {
   "cell_type": "code",
   "execution_count": 19,
   "id": "9234f616-bc32-4141-88f0-704590b2fd27",
   "metadata": {},
   "outputs": [
    {
     "name": "stdout",
     "output_type": "stream",
     "text": [
      "{2, 4, 6, 8, 10}\n"
     ]
    }
   ],
   "source": [
    "my_set =set()\n",
    "number_set = set(range(1,11))\n",
    "for i in number_set:\n",
    " if i%2 ==0:\n",
    "  my_set.add(i)\n",
    "print(my_set)"
   ]
  },
  {
   "cell_type": "raw",
   "id": "b2fd0e0c-67a3-40a0-9d07-f954345effc1",
   "metadata": {},
   "source": [
    "8. Create a set of odd numbers from 1 to 10."
   ]
  },
  {
   "cell_type": "code",
   "execution_count": 20,
   "id": "ebea7b97-7346-4d56-ab66-cf81bf456aeb",
   "metadata": {},
   "outputs": [
    {
     "name": "stdout",
     "output_type": "stream",
     "text": [
      "{1, 3, 5, 7, 9}\n"
     ]
    }
   ],
   "source": [
    "my_set =set()\n",
    "number_set = set(range(1,11))\n",
    "for i in number_set:\n",
    " if i%2 ==1:\n",
    "  my_set.add(i)\n",
    "print(my_set)"
   ]
  },
  {
   "cell_type": "raw",
   "id": "625a9f28-b3cc-437b-8efa-5fa9e4fc46a0",
   "metadata": {},
   "source": [
    "9. Find the union of two sets."
   ]
  },
  {
   "cell_type": "code",
   "execution_count": 21,
   "id": "b4da3458-0eb6-454c-bdac-70f012e3b8d1",
   "metadata": {},
   "outputs": [
    {
     "name": "stdout",
     "output_type": "stream",
     "text": [
      "Union of A and B: {1, 2, 3, 4, 5, 6}\n"
     ]
    }
   ],
   "source": [
    "set_A = {1, 2, 3, 4}\n",
    "set_B = {3, 4, 5, 6}\n",
    "\n",
    "union_result = set_A | set_B\n",
    "print(\"Union of A and B:\", union_result)"
   ]
  },
  {
   "cell_type": "raw",
   "id": "69118407-769f-4e7d-8286-cbd2f5baa73b",
   "metadata": {},
   "source": [
    "10. Find the intersection of two sets."
   ]
  },
  {
   "cell_type": "code",
   "execution_count": 22,
   "id": "dfcb2b40-2d88-41fb-9c29-cf44618fbf75",
   "metadata": {},
   "outputs": [
    {
     "name": "stdout",
     "output_type": "stream",
     "text": [
      "{3, 4}\n"
     ]
    }
   ],
   "source": [
    "set_A = {1, 2, 3, 4}\n",
    "set_B = {3, 4, 5, 6}\n",
    "\n",
    "result_set = set_A.intersection(set_B)\n",
    "print(result_set)"
   ]
  },
  {
   "cell_type": "raw",
   "id": "9d1c7365-36cd-4039-9772-f2b8c4bb239a",
   "metadata": {},
   "source": [
    "11. Find the difference between two sets."
   ]
  },
  {
   "cell_type": "code",
   "execution_count": 23,
   "id": "a7e1df0d-e346-4779-b0dd-73404624763d",
   "metadata": {},
   "outputs": [
    {
     "name": "stdout",
     "output_type": "stream",
     "text": [
      "{1, 2}\n"
     ]
    }
   ],
   "source": [
    "set_A = {1, 2, 3, 4}\n",
    "set_B = {3, 4, 5, 6}\n",
    "\n",
    "result_set = set_A.difference(set_B)\n",
    "print(result_set)"
   ]
  },
  {
   "cell_type": "raw",
   "id": "f4d795ce-deeb-43ad-992c-f7d8c0324ccf",
   "metadata": {},
   "source": [
    "12. Check if a set is a subset of another set."
   ]
  },
  {
   "cell_type": "code",
   "execution_count": 24,
   "id": "99d80c4d-1c22-4f9e-9a12-b36bb306e596",
   "metadata": {},
   "outputs": [
    {
     "name": "stdout",
     "output_type": "stream",
     "text": [
      "True\n"
     ]
    }
   ],
   "source": [
    "set_A = {1, 2, 3}\n",
    "set_B = {1, 2, 3, 4, 5}\n",
    "\n",
    "is_subset = set_A.issubset(set_B)\n",
    "print(is_subset)"
   ]
  },
  {
   "cell_type": "raw",
   "id": "ba6f99e4-9a52-4897-bb04-a3b9685ec014",
   "metadata": {},
   "source": [
    "13. Check if a set is a superset of another set."
   ]
  },
  {
   "cell_type": "code",
   "execution_count": 25,
   "id": "0cd6716b-b75f-43c5-a2f3-2048f19efbcb",
   "metadata": {},
   "outputs": [
    {
     "name": "stdout",
     "output_type": "stream",
     "text": [
      "True\n"
     ]
    }
   ],
   "source": [
    "set_A = {1, 2, 3}\n",
    "set_B = {1, 2, 3, 4, 5}\n",
    "\n",
    "is_subset = set_B.issuperset(set_A)\n",
    "print(is_subset)"
   ]
  },
  {
   "cell_type": "raw",
   "id": "2e6244e5-f067-486e-9d7e-97647d459959",
   "metadata": {},
   "source": [
    "14. Create a set from a list."
   ]
  },
  {
   "cell_type": "code",
   "execution_count": 28,
   "id": "03c1c15d-c747-4f00-8e4b-a08f824b35a6",
   "metadata": {},
   "outputs": [
    {
     "name": "stdout",
     "output_type": "stream",
     "text": [
      "{65, 1, 2, 34, 'Python', 6, 76, 'Java', 56}\n"
     ]
    }
   ],
   "source": [
    "my_list = [1,2,34,6,65,76,\"Python\",\"Java\",56]\n",
    "my_set = set(my_list)\n",
    "print(my_set)"
   ]
  },
  {
   "cell_type": "raw",
   "id": "a26fe59f-43da-4e7d-a471-c2c81f3da4d9",
   "metadata": {},
   "source": [
    "15. Convert a set to a list."
   ]
  },
  {
   "cell_type": "code",
   "execution_count": 27,
   "id": "e3ec64a6-a125-46fc-9fcf-32bd67f236d0",
   "metadata": {},
   "outputs": [
    {
     "name": "stdout",
     "output_type": "stream",
     "text": [
      "[65, 2, 'Python', 34, 1, 6, 76, 'Java', 56]\n"
     ]
    }
   ],
   "source": [
    "my_set = {1,2,34,6,65,76,\"Python\",\"Java\",56}\n",
    "my_list = list(my_list)\n",
    "print(my_list)"
   ]
  },
  {
   "cell_type": "raw",
   "id": "ef286b86-1f58-4d3a-9fa4-9fb349584431",
   "metadata": {},
   "source": [
    "16. Remove a random element from a set."
   ]
  },
  {
   "cell_type": "code",
   "execution_count": 48,
   "id": "39e5c3e4-4f6a-4bc5-9804-c1b3565abeef",
   "metadata": {},
   "outputs": [
    {
     "name": "stdout",
     "output_type": "stream",
     "text": [
      "{65, 2, 'Python', 6}\n"
     ]
    }
   ],
   "source": [
    "import random\n",
    "my_set = {65,  2,  'Python', 6,'Java'}\n",
    "my_list =list(my_set)\n",
    "def my_function(e):\n",
    " set_index = my_list[random.randint(0,len(e)-1)]\n",
    " e.remove(set_index)\n",
    " return e\n",
    "\n",
    "new_set = my_function(my_list)\n",
    "print(set(new_set))"
   ]
  },
  {
   "cell_type": "raw",
   "id": "4efc7b89-3a14-449a-93dd-3204522ef20d",
   "metadata": {},
   "source": [
    "17. Pop an element from a set."
   ]
  },
  {
   "cell_type": "code",
   "execution_count": null,
   "id": "434bfa40-5b86-4f37-82d8-b4a20fe32685",
   "metadata": {},
   "outputs": [],
   "source": [
    "my_set = {65,  2,  'Python', 6,'Java'}\n",
    "poped_element = my_set.pop()\n",
    "print(f\"Poped element is {poped_element} amd the updated set is {my_set}\")"
   ]
  },
  {
   "cell_type": "raw",
   "id": "913edbb9-016e-49d6-98bc-c02663601f07",
   "metadata": {},
   "source": [
    "18. Check if two sets have no elements in common."
   ]
  },
  {
   "cell_type": "code",
   "execution_count": null,
   "id": "fffb31c2-ff90-4a8d-9766-f4e1cc3f2c5f",
   "metadata": {},
   "outputs": [],
   "source": [
    "set_1 = {1,2,3,4}\n",
    "set_2 = {5,6,7,8}\n",
    "\n",
    "if set_1.isdisjoint(set_2):\n",
    " print(\"The sets have no element in common\")\n",
    "else:\n",
    " print(\"The sets have element in common\")"
   ]
  },
  {
   "cell_type": "raw",
   "id": "ab88a183-a300-4828-ace6-ad0b726d8794",
   "metadata": {},
   "source": [
    "19. Find the symmetric difference between two sets."
   ]
  },
  {
   "cell_type": "code",
   "execution_count": 49,
   "id": "b6971706-2738-49cc-bfbe-0ccf123e13f5",
   "metadata": {},
   "outputs": [
    {
     "name": "stdout",
     "output_type": "stream",
     "text": [
      "Set A: {1, 2, 3, 4}\n",
      "Set B: {3, 4, 5, 6}\n",
      "Symmetric Difference: {1, 2, 5, 6}\n"
     ]
    }
   ],
   "source": [
    "set_A = {1, 2, 3, 4}\n",
    "set_B = {3, 4, 5, 6}\n",
    "\n",
    "symmetric_difference_result = set_A.symmetric_difference(set_B)\n",
    "\n",
    "print(\"Set A:\", set_A)\n",
    "print(\"Set B:\", set_B)\n",
    "print(\"Symmetric Difference:\", symmetric_difference_result)"
   ]
  },
  {
   "cell_type": "raw",
   "id": "5bcc8d9c-41db-46f9-bcf3-355ececdc2bd",
   "metadata": {},
   "source": [
    "20. Update a set with elements from another set."
   ]
  },
  {
   "cell_type": "code",
   "execution_count": 50,
   "id": "22ef23b4-9594-4991-aa64-83d9ed828123",
   "metadata": {},
   "outputs": [
    {
     "name": "stdout",
     "output_type": "stream",
     "text": [
      "{1, 2, 3, 4, 5, 6}\n"
     ]
    }
   ],
   "source": [
    "set_A = {1, 2, 3, 4}\n",
    "set_B = {3, 4, 5, 6}\n",
    "\n",
    "set_A.update(set_B)\n",
    "print(set_A)"
   ]
  },
  {
   "cell_type": "raw",
   "id": "4b264f8d-05d1-4e9b-a198-bb75ee7307ef",
   "metadata": {},
   "source": [
    "21. Create a set of the first 5 prime numbers."
   ]
  },
  {
   "cell_type": "code",
   "execution_count": null,
   "id": "0c046385-62f4-4642-a516-93228a453e84",
   "metadata": {},
   "outputs": [],
   "source": [
    "my_set = set()\n",
    "element = 2\n",
    "while len(my_set)<5:\n",
    " is_prime = True\n",
    " for i in range(2,element):\n",
    "  if  element%i ==0:\n",
    "   is_prime= False\n",
    "   break\n",
    "  \n",
    " if is_prime:\n",
    "   my_set.add(element)\n",
    " element+=1\n",
    "print(my_set)"
   ]
  },
  {
   "cell_type": "raw",
   "id": "396b67b5-6cc0-4625-a6fe-8139e7250ffa",
   "metadata": {},
   "source": [
    "22. Check if two sets are identical."
   ]
  },
  {
   "cell_type": "code",
   "execution_count": 53,
   "id": "26466bab-ba66-442b-b098-431cbc03b430",
   "metadata": {},
   "outputs": [
    {
     "name": "stdout",
     "output_type": "stream",
     "text": [
      "Yes sets are identical\n"
     ]
    }
   ],
   "source": [
    "set_A = {1, 2, 3, 4}\n",
    "set_B = {4, 3, 2, 1}\n",
    "\n",
    "if set_A ==set_B:\n",
    " print('Yes sets are identical')\n",
    "else:\n",
    " print(\"Sets are not identical\")"
   ]
  },
  {
   "cell_type": "code",
   "execution_count": 55,
   "id": "352cff6c-54c8-420e-9c3c-5abcae2590db",
   "metadata": {},
   "outputs": [
    {
     "name": "stdout",
     "output_type": "stream",
     "text": [
      "Frozen Set: frozenset({1, 2, 3, 4, 5})\n"
     ]
    }
   ],
   "source": [
    "my_set = {1, 2, 3, 4, 5}\n",
    "my_frozen_set = frozenset(my_set)\n",
    "print(\"Frozen Set:\", my_frozen_set)\n"
   ]
  },
  {
   "cell_type": "raw",
   "id": "9a688eec-8897-442e-9a8c-25018ba54c82",
   "metadata": {},
   "source": [
    "24. Check if a set is disjoint with another set."
   ]
  },
  {
   "cell_type": "code",
   "execution_count": 58,
   "id": "53878cc4-bed8-4db7-826a-0e4e9a00f5eb",
   "metadata": {},
   "outputs": [
    {
     "name": "stdout",
     "output_type": "stream",
     "text": [
      "Yes! sets are disjoint\n"
     ]
    }
   ],
   "source": [
    "Set_A= {1, 2, 3}\n",
    "Set_B= {4, 5, 6}\n",
    "if Set_A.isdisjoint(Set_B):\n",
    " print(\"Yes! sets are disjoint\")\n",
    "else:\n",
    " print(\"No! sets are not disjoint\")"
   ]
  },
  {
   "cell_type": "raw",
   "id": "74b77655-c386-4af5-ab8e-d56543092ce9",
   "metadata": {},
   "source": [
    "25. Create a set of squares of numbers from 1 to 5."
   ]
  },
  {
   "cell_type": "code",
   "execution_count": 59,
   "id": "503cfc41-07b4-4eac-b0a9-1d275b8b2941",
   "metadata": {},
   "outputs": [
    {
     "name": "stdout",
     "output_type": "stream",
     "text": [
      "{1, 4, 9, 16, 25}\n"
     ]
    }
   ],
   "source": [
    "new_set = set()\n",
    "for i in range (1,6):\n",
    " new_set.add(i**2)\n",
    "print(new_set)"
   ]
  },
  {
   "cell_type": "raw",
   "id": "51eb4328-b987-483b-b6c5-cee3c5ca9eb7",
   "metadata": {},
   "source": [
    "26. Filter out all even numbers from a set."
   ]
  },
  {
   "cell_type": "code",
   "execution_count": 60,
   "id": "4836dfc4-66ec-4f7c-bd39-0893c918824b",
   "metadata": {},
   "outputs": [
    {
     "name": "stdout",
     "output_type": "stream",
     "text": [
      "{2, 4, 6, 8, 12, 16}\n"
     ]
    }
   ],
   "source": [
    "my_set = {2,4,5,6,7,8,9,12,16,13}\n",
    "new_set = set()\n",
    "for i in my_set:\n",
    " if i%2 ==0:\n",
    "  new_set.add(i)\n",
    "print(new_set)"
   ]
  },
  {
   "cell_type": "raw",
   "id": "9c443062-a374-48a7-845c-459cb9f48c5c",
   "metadata": {},
   "source": [
    "27. Multiply all elements in a set by 2."
   ]
  },
  {
   "cell_type": "code",
   "execution_count": 65,
   "id": "fe3867a2-bf10-4a56-a44b-ebf60e4d9504",
   "metadata": {},
   "outputs": [
    {
     "name": "stdout",
     "output_type": "stream",
     "text": [
      "{32, 4, 8, 10, 12, 14, 16, 18, 24, 26}\n"
     ]
    }
   ],
   "source": [
    "my_set = {2,4,5,6,7,8,9,12,16,13}\n",
    "new_set = set()\n",
    "for i in my_set:\n",
    " i*=2\n",
    " new_set.add(i)\n",
    "\n",
    "print(new_set)"
   ]
  },
  {
   "cell_type": "raw",
   "id": "183fa94a-9197-45c9-914c-d5d2173298ba",
   "metadata": {},
   "source": [
    "28. Create a set of random numbers."
   ]
  },
  {
   "cell_type": "code",
   "execution_count": 1,
   "id": "053f4db3-6901-452d-a198-0d639b5659c0",
   "metadata": {},
   "outputs": [
    {
     "name": "stdout",
     "output_type": "stream",
     "text": [
      "{65, 67, 69, 7, 89, 90}\n"
     ]
    }
   ],
   "source": [
    "import random\n",
    "my_set = set()\n",
    "count =0\n",
    "while count<=5:\n",
    " x = random.randint(1,100)\n",
    " my_set.add(x)\n",
    " count+=1\n",
    "print(my_set)"
   ]
  },
  {
   "cell_type": "raw",
   "id": "531bc36f-c40a-431a-ad8a-59e7df881891",
   "metadata": {},
   "source": [
    "29. Check if a set is empty."
   ]
  },
  {
   "cell_type": "code",
   "execution_count": 66,
   "id": "a7e07e47-950a-42d9-b5fa-d6de00af48b4",
   "metadata": {},
   "outputs": [
    {
     "name": "stdout",
     "output_type": "stream",
     "text": [
      "Empty Set\n"
     ]
    }
   ],
   "source": [
    "my_set = set()\n",
    "if not my_set:\n",
    " print(\"Empty Set\")\n",
    "else:\n",
    " print(\"Set is not empty\")"
   ]
  },
  {
   "cell_type": "raw",
   "id": "e3cb055b-9e9c-4585-bbcd-78fc50d41194",
   "metadata": {},
   "source": [
    "30. Create a nested set (hint: use frozenset)."
   ]
  },
  {
   "cell_type": "code",
   "execution_count": 67,
   "id": "b9080bcf-4aa9-4f7d-9caf-a0b761409192",
   "metadata": {},
   "outputs": [
    {
     "name": "stdout",
     "output_type": "stream",
     "text": [
      "{1, 3, 4, 5, frozenset({4, 7, frozenset({3, 4, 5}), 6}), 7}\n"
     ]
    }
   ],
   "source": [
    "my_set = {1,3,4,frozenset({4,frozenset({3,4,5}),6,7}),5,7}\n",
    "print(my_set)"
   ]
  },
  {
   "cell_type": "raw",
   "id": "d91477c8-5600-439b-b56a-4e3a117926c9",
   "metadata": {},
   "source": [
    "31. Remove an element from a set using the discard method"
   ]
  },
  {
   "cell_type": "code",
   "execution_count": 2,
   "id": "0fcad101-fc23-4577-a9d2-b189c681b776",
   "metadata": {},
   "outputs": [
    {
     "name": "stdout",
     "output_type": "stream",
     "text": [
      "{65, 69, 7, 89, 90}\n"
     ]
    }
   ],
   "source": [
    "my_set = {65, 67, 69, 7, 89, 90}\n",
    "my_set.discard(67)\n",
    "print(my_set)"
   ]
  },
  {
   "cell_type": "raw",
   "id": "b36df65f-e45f-4302-ac19-356f6c7aac06",
   "metadata": {},
   "source": [
    "32. Compare two sets."
   ]
  },
  {
   "cell_type": "code",
   "execution_count": 3,
   "id": "bde22f23-5123-45f8-b51c-f7ddc2e60351",
   "metadata": {},
   "outputs": [
    {
     "name": "stdout",
     "output_type": "stream",
     "text": [
      "Equality: False\n",
      "Is set_A a subset of set_B? False\n",
      "Is set_B a superset of set_A? False\n",
      "Intersection: {3, 4}\n",
      "Union: {1, 2, 3, 4, 5, 6}\n",
      "Complement of set_B with respect to set_A: {5, 6}\n",
      "Are set_A and set_B disjoint? False\n"
     ]
    }
   ],
   "source": [
    "set_A = {1, 2, 3, 4}\n",
    "set_B = {3, 4, 5, 6}\n",
    "\n",
    "# Equality\n",
    "is_equal = set_A == set_B\n",
    "print(\"Equality:\", is_equal)\n",
    "\n",
    "# Subset and Superset\n",
    "is_subset = set_A.issubset(set_B)\n",
    "is_superset = set_B.issuperset(set_A)\n",
    "print(\"Is set_A a subset of set_B?\", is_subset)\n",
    "print(\"Is set_B a superset of set_A?\", is_superset)\n",
    "\n",
    "# Intersection\n",
    "intersection_set = set_A.intersection(set_B)\n",
    "print(\"Intersection:\", intersection_set)\n",
    "\n",
    "# Union\n",
    "union_set = set_A.union(set_B)\n",
    "print(\"Union:\", union_set)\n",
    "\n",
    "# Complement\n",
    "complement_set_B_A = set_B - set_A\n",
    "print(\"Complement of set_B with respect to set_A:\", complement_set_B_A)\n",
    "\n",
    "# Disjoint Sets\n",
    "are_disjoint = set_A.isdisjoint(set_B)\n",
    "print(\"Are set_A and set_B disjoint?\", are_disjoint)\n"
   ]
  },
  {
   "cell_type": "raw",
   "id": "51ad40f9-5de4-471f-ab67-0550de9eb322",
   "metadata": {},
   "source": [
    "33. Create a set from a string."
   ]
  },
  {
   "cell_type": "code",
   "execution_count": 4,
   "id": "b7471afb-d18c-49f5-bd82-31d91061a6e9",
   "metadata": {},
   "outputs": [
    {
     "name": "stdout",
     "output_type": "stream",
     "text": [
      "Set from string: {'e', 'o', 'h', 'l'}\n"
     ]
    }
   ],
   "source": [
    "input_string = \"hello\"\n",
    "char_set = set(input_string)\n",
    "print(\"Set from string:\", char_set)\n"
   ]
  },
  {
   "cell_type": "raw",
   "id": "40628c7c-0156-402f-8aff-75962d79cedd",
   "metadata": {},
   "source": [
    "34. Convert a set of strings to a set of integers."
   ]
  },
  {
   "cell_type": "code",
   "execution_count": 5,
   "id": "167970b0-1912-45f9-80ae-2e34e3d31e47",
   "metadata": {},
   "outputs": [
    {
     "name": "stdout",
     "output_type": "stream",
     "text": [
      "{1, 2, 3, 4, 5}\n"
     ]
    }
   ],
   "source": [
    "my_set = {'1','2','3','4','5'}\n",
    "new_set =set()\n",
    "for i in my_set:\n",
    "    i =int(i)\n",
    "    new_set.add(i)\n",
    "print(new_set)"
   ]
  },
  {
   "cell_type": "raw",
   "id": "5aef6ae4-a6b5-48c5-ada9-32cb21ebf3da",
   "metadata": {},
   "source": [
    "35. Convert a set of integers to a set of strings."
   ]
  },
  {
   "cell_type": "code",
   "execution_count": 6,
   "id": "eff9054b-3bec-4e61-a909-9edc22b600e3",
   "metadata": {},
   "outputs": [
    {
     "name": "stdout",
     "output_type": "stream",
     "text": [
      "{'5', '4', '1', '3', '2'}\n"
     ]
    }
   ],
   "source": [
    "my_set ={1, 2, 3, 4, 5}\n",
    "new_set = set()\n",
    "for i in my_set:\n",
    "        i = str(i)\n",
    "        new_set.add(i)\n",
    "print (new_set)"
   ]
  },
  {
   "cell_type": "raw",
   "id": "ba676eda-ec58-4ce6-80b6-d43458b534df",
   "metadata": {},
   "source": [
    "36. Create a set from a tuple."
   ]
  },
  {
   "cell_type": "code",
   "execution_count": 7,
   "id": "a95a2e7c-2ce3-4aca-9ded-0c669dcc318e",
   "metadata": {},
   "outputs": [
    {
     "name": "stdout",
     "output_type": "stream",
     "text": [
      "{1, 2, 3, 4, 5, 6}\n"
     ]
    }
   ],
   "source": [
    "my_tuple = (1,2,3,4,5,6,6,4,3,5,3,2)\n",
    "my_set = set(my_tuple)\n",
    "print(my_set)"
   ]
  },
  {
   "cell_type": "raw",
   "id": "d9c523e7-8f3d-4a2f-9a3b-f402ee63edf2",
   "metadata": {},
   "source": [
    "37. Convert a set to a tuple.\n"
   ]
  },
  {
   "cell_type": "code",
   "execution_count": 8,
   "id": "e584ce9b-33cc-4290-b262-85f345206ae4",
   "metadata": {},
   "outputs": [
    {
     "name": "stdout",
     "output_type": "stream",
     "text": [
      "(1, 2, 3, 4, 5, 6)\n"
     ]
    }
   ],
   "source": [
    "my_set = {1,2,3,4,5,6,6,4,3,5,3,2}\n",
    "my_tuple = tuple(my_set)\n",
    "print(my_tuple)"
   ]
  },
  {
   "cell_type": "raw",
   "id": "ca015c7b-9b57-4e19-bd6b-684d21bd592b",
   "metadata": {},
   "source": [
    "38. Find the maximum value in a set.\n"
   ]
  },
  {
   "cell_type": "code",
   "execution_count": 9,
   "id": "99fc061e-b5ba-4ad6-aba6-37553155c572",
   "metadata": {},
   "outputs": [
    {
     "name": "stdout",
     "output_type": "stream",
     "text": [
      "7\n"
     ]
    }
   ],
   "source": [
    "my_set = {1, 2, 3, 4, 5, 6, 7}\n",
    "max_value = max(my_set)\n",
    "print(max_value)"
   ]
  },
  {
   "cell_type": "raw",
   "id": "da516b8c-e8d0-45f6-b979-80a7ac60f974",
   "metadata": {},
   "source": [
    "39. Find the minimum value in a set.\n"
   ]
  },
  {
   "cell_type": "code",
   "execution_count": 10,
   "id": "a6720b86-635a-43c9-b4a6-9b3f79a9af7c",
   "metadata": {},
   "outputs": [
    {
     "name": "stdout",
     "output_type": "stream",
     "text": [
      "1\n"
     ]
    }
   ],
   "source": [
    "my_set = {1, 2, 3, 4, 5, 6, 7}\n",
    "max_value = min(my_set)\n",
    "print(max_value)"
   ]
  },
  {
   "cell_type": "raw",
   "id": "43cd05ab-a7ef-4a3d-bdd2-429db2f10abc",
   "metadata": {},
   "source": [
    "40. Create a set from user input."
   ]
  },
  {
   "cell_type": "code",
   "execution_count": 11,
   "id": "6f8bf261-168b-4c60-b134-77076c856222",
   "metadata": {},
   "outputs": [
    {
     "name": "stdin",
     "output_type": "stream",
     "text": [
      "Enter the value separated by comma(,):  d,,t,r,,e,t,y,y,u,7,55,6\n"
     ]
    },
    {
     "name": "stdout",
     "output_type": "stream",
     "text": [
      "{'', 'r', 'e', 'd', '6', 't', '55', '7', 'y', 'u'}\n"
     ]
    }
   ],
   "source": [
    "user_input = input(\"Enter the value separated by comma(,): \")\n",
    "print(set(user_input.split(\",\")))"
   ]
  },
  {
   "cell_type": "raw",
   "id": "9c952f49-200d-42b9-b66e-ad98e3f799ab",
   "metadata": {},
   "source": [
    "41. Check if the intersection of two sets is empty.\n"
   ]
  },
  {
   "cell_type": "code",
   "execution_count": 1,
   "id": "008a35b7-a89f-447a-8d2b-194c48fb77aa",
   "metadata": {},
   "outputs": [
    {
     "name": "stdout",
     "output_type": "stream",
     "text": [
      "The intersection is not empty.\n"
     ]
    }
   ],
   "source": [
    "set1 = {1, 2, 3, 4}\n",
    "set2 = {3, 4, 5, 6}\n",
    "\n",
    "if not set1.intersection(set2):\n",
    "    print(\"The intersection is empty.\")\n",
    "else:\n",
    "    print(\"The intersection is not empty.\")"
   ]
  },
  {
   "cell_type": "raw",
   "id": "445ddcb6-48af-44ec-916d-d12a728a60fa",
   "metadata": {},
   "source": [
    "42. Create a set of the first 5 Fibonacci numbers.\n"
   ]
  },
  {
   "cell_type": "code",
   "execution_count": 2,
   "id": "42829810-5fc3-4f06-ad76-85ffb16dc14c",
   "metadata": {},
   "outputs": [
    {
     "name": "stdout",
     "output_type": "stream",
     "text": [
      "{1, 2, 3, 5, 8}\n"
     ]
    }
   ],
   "source": [
    "my_set = set()\n",
    "\n",
    "old_number = 0\n",
    "new_number = 1\n",
    "while len(my_set)<5:\n",
    "    old_number,new_number = new_number,old_number+new_number\n",
    "    my_set.add(new_number)\n",
    "print(my_set)"
   ]
  },
  {
   "cell_type": "raw",
   "id": "755457b7-95ed-475c-a0b7-5554df93c8ab",
   "metadata": {},
   "source": [
    "43. Remove duplicates from a list using sets."
   ]
  },
  {
   "cell_type": "code",
   "execution_count": null,
   "id": "faf388af-5117-4996-beb4-0c6a8774aa6f",
   "metadata": {},
   "outputs": [],
   "source": [
    "my_list =[1,2,3,4,5,1,2,3,2,1,4,3,5]\n",
    "print(list(set(my_list)))"
   ]
  },
  {
   "cell_type": "raw",
   "id": "b6affccb-62d5-4065-af7b-4b848486f4ff",
   "metadata": {},
   "source": [
    "44. Check if two sets have the same elements, regardless of their count"
   ]
  },
  {
   "cell_type": "code",
   "execution_count": 3,
   "id": "84432f89-cc7a-4e5d-a8a4-2f8e3da187b8",
   "metadata": {},
   "outputs": [
    {
     "name": "stdout",
     "output_type": "stream",
     "text": [
      "Yes! Sets have the same elements, regardless of their count\n"
     ]
    }
   ],
   "source": [
    "  setA = {1,2,2,3,3,4,4,4,4,5}\n",
    "setB = {1,2,3,4,5}\n",
    "if setA == setB:\n",
    "    print(\"Yes! Sets have the same elements, regardless of their count\")\n",
    "else:\n",
    "    print('No! Sets have not the same elements, regardless of their count')"
   ]
  },
  {
   "cell_type": "raw",
   "id": "f6f23946-c0c4-4140-979d-7e61ed0ec33a",
   "metadata": {},
   "source": [
    "45. Create a set of the first `n` powers of 2.\n"
   ]
  },
  {
   "cell_type": "code",
   "execution_count": 4,
   "id": "5162c221-b544-4ecf-b4fc-1b19a6aeb777",
   "metadata": {},
   "outputs": [
    {
     "name": "stdin",
     "output_type": "stream",
     "text": [
      "Enter the number:  10\n"
     ]
    },
    {
     "name": "stdout",
     "output_type": "stream",
     "text": [
      "{32, 1, 2, 64, 4, 128, 256, 512, 8, 16}\n"
     ]
    }
   ],
   "source": [
    "user_input = int(input(\"Enter the number: \"))\n",
    "my_set = set()\n",
    "power = 0\n",
    "while len(my_set)<user_input:\n",
    "    my_set.add(2**power)\n",
    "    power+=1\n",
    "print(my_set)"
   ]
  },
  {
   "cell_type": "raw",
   "id": "878a11f3-f715-4a22-8e96-a2d8f687a3d6",
   "metadata": {},
   "source": [
    "46. Find the common elements between a set and a list."
   ]
  },
  {
   "cell_type": "code",
   "execution_count": 6,
   "id": "29f628e8-3937-410e-92f6-da998c9468ce",
   "metadata": {},
   "outputs": [
    {
     "name": "stdout",
     "output_type": "stream",
     "text": [
      "{1, 2, 3, 4, 5}\n"
     ]
    }
   ],
   "source": [
    "my_list = [0,1,2,3,4,5,6,7,8,9]\n",
    "my_set = {1,2,3,4,5}\n",
    "new_list = []\n",
    "for i in my_set:\n",
    "    for j in my_list:\n",
    "        if i==j:\n",
    "         new_list.append(i)\n",
    "print(set(new_list))"
   ]
  },
  {
   "cell_type": "raw",
   "id": "416606d0-0a50-4ec2-b9e0-b4451c05eb28",
   "metadata": {},
   "source": [
    "47. Create a set of the first `n` triangular numbers."
   ]
  },
  {
   "cell_type": "code",
   "execution_count": 7,
   "id": "6609cd84-d8de-4237-917d-13da30f83280",
   "metadata": {},
   "outputs": [
    {
     "name": "stdin",
     "output_type": "stream",
     "text": [
      "Enter the no:  7\n"
     ]
    },
    {
     "name": "stdout",
     "output_type": "stream",
     "text": [
      "28\n"
     ]
    }
   ],
   "source": [
    "user_input = int(input(\"Enter the no: \"))\n",
    "number =0\n",
    "count =0\n",
    "for i in range(0,user_input+1):\n",
    "    number = number +i\n",
    "print(number) "
   ]
  },
  {
   "cell_type": "raw",
   "id": "a65326d2-3e6e-4916-90f0-dc8a49b369f9",
   "metadata": {},
   "source": [
    "48. Check if a set contains another set as a subset."
   ]
  },
  {
   "cell_type": "code",
   "execution_count": 1,
   "id": "00c141b9-9513-42d3-91b2-9b2c201547ca",
   "metadata": {},
   "outputs": [
    {
     "name": "stdout",
     "output_type": "stream",
     "text": [
      "True\n"
     ]
    }
   ],
   "source": [
    "set1 = {1, 2, 3, 4, 5}\n",
    "set2 = {2, 4}\n",
    "is_subset = set2.issubset(set1)\n",
    "\n",
    "print(is_subset)\n"
   ]
  },
  {
   "cell_type": "raw",
   "id": "abab854f-88e7-48ea-ae00-6d304843945e",
   "metadata": {},
   "source": [
    "49. Create a set of alternating 1s and 0s of length `n`."
   ]
  },
  {
   "cell_type": "code",
   "execution_count": null,
   "id": "b7502bc2-7b4a-4e15-9139-8a79688ef1b8",
   "metadata": {},
   "outputs": [],
   "source": [
    "n = 10 \n",
    "user_set = {1 if i % 2 == 0 else 0 for i in range(n)}\n",
    "print(user_set)"
   ]
  },
  {
   "cell_type": "raw",
   "id": "e269bd1e-c4a3-4087-9408-8bac757bf6ef",
   "metadata": {},
   "source": [
    "50. Merge multiple sets into one."
   ]
  },
  {
   "cell_type": "code",
   "execution_count": 2,
   "id": "c7f34500-c055-435d-a23d-0021a1132527",
   "metadata": {},
   "outputs": [
    {
     "name": "stdout",
     "output_type": "stream",
     "text": [
      "{1, 2, 3, 4, 5, 6, 7, 8, 9, 10, 11, 12, 13, 14, 15}\n"
     ]
    }
   ],
   "source": [
    "set_1 = {1,2,3,4,5}\n",
    "set_2 = {6,7,8,9,10}\n",
    "set_3 = {11,12,13,14,15}\n",
    "resut_set = set_1.union(set_2,set_3)\n",
    "print(resut_set)"
   ]
  }
 ],
 "metadata": {
  "kernelspec": {
   "display_name": "Python 3 (ipykernel)",
   "language": "python",
   "name": "python3"
  },
  "language_info": {
   "codemirror_mode": {
    "name": "ipython",
    "version": 3
   },
   "file_extension": ".py",
   "mimetype": "text/x-python",
   "name": "python",
   "nbconvert_exporter": "python",
   "pygments_lexer": "ipython3",
   "version": "3.10.8"
  }
 },
 "nbformat": 4,
 "nbformat_minor": 5
}
